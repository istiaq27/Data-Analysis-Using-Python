{
  "nbformat": 4,
  "nbformat_minor": 0,
  "metadata": {
    "colab": {
      "name": "7 - Array Input and Output.ipynb",
      "provenance": [],
      "collapsed_sections": [],
      "include_colab_link": true
    },
    "language_info": {
      "name": "python"
    },
    "kernelspec": {
      "name": "python3",
      "display_name": "Python 3"
    }
  },
  "cells": [
    {
      "cell_type": "markdown",
      "metadata": {
        "id": "view-in-github",
        "colab_type": "text"
      },
      "source": [
        "<a href=\"https://colab.research.google.com/github/istiaq27/Data-Analysis-Using-Python/blob/main/Numpy%20Basic/7.%20Array%20Input%20and%20Output.ipynb\" target=\"_parent\"><img src=\"https://colab.research.google.com/assets/colab-badge.svg\" alt=\"Open In Colab\"/></a>"
      ]
    },
    {
      "cell_type": "code",
      "metadata": {
        "id": "U0eSX2FyrYgB"
      },
      "source": [
        "import numpy as np"
      ],
      "execution_count": 1,
      "outputs": []
    },
    {
      "cell_type": "code",
      "metadata": {
        "id": "hsk5NSUvrYgF"
      },
      "source": [
        "#Create an array\n",
        "arr = np.arange(5)"
      ],
      "execution_count": 2,
      "outputs": []
    },
    {
      "cell_type": "code",
      "metadata": {
        "id": "Ow06LtKhrYgG"
      },
      "source": [
        "#Saving array on disk in binary format (file extension .npy)\n",
        "np.save('my_array',arr)"
      ],
      "execution_count": 3,
      "outputs": []
    },
    {
      "cell_type": "code",
      "metadata": {
        "colab": {
          "base_uri": "https://localhost:8080/"
        },
        "id": "aswXJRu_rYgH",
        "outputId": "fcd2e03e-e8fd-4739-eff6-8d54d8e3fd59"
      },
      "source": [
        "#Change arr\n",
        "arr = np.arange(10)\n",
        "#Show\n",
        "arr"
      ],
      "execution_count": 4,
      "outputs": [
        {
          "output_type": "execute_result",
          "data": {
            "text/plain": [
              "array([0, 1, 2, 3, 4, 5, 6, 7, 8, 9])"
            ]
          },
          "metadata": {},
          "execution_count": 4
        }
      ]
    },
    {
      "cell_type": "code",
      "metadata": {
        "colab": {
          "base_uri": "https://localhost:8080/"
        },
        "id": "GvBbsqA6rYgI",
        "outputId": "8a167b5b-daa1-400e-9aba-6ae3af652baf"
      },
      "source": [
        "#Lets see the original saved copy\n",
        "np.load('my_array.npy')"
      ],
      "execution_count": 5,
      "outputs": [
        {
          "output_type": "execute_result",
          "data": {
            "text/plain": [
              "array([0, 1, 2, 3, 4])"
            ]
          },
          "metadata": {},
          "execution_count": 5
        }
      ]
    },
    {
      "cell_type": "code",
      "metadata": {
        "id": "tqKmXJTxrYgJ"
      },
      "source": [
        "#Saving multiple arrays into a zip file\n",
        "np.savez('two_arrays.npz',x=arr,y=arr)"
      ],
      "execution_count": 7,
      "outputs": []
    },
    {
      "cell_type": "code",
      "metadata": {
        "colab": {
          "base_uri": "https://localhost:8080/"
        },
        "id": "jqILPAAUrYgJ",
        "outputId": "b2ced18b-5686-4d05-f3b4-9c2a45e9b09d"
      },
      "source": [
        "#Now loading multiple arrays\n",
        "archive_array = np.load('two_arrays.npz')\n",
        "\n",
        "#Show\n",
        "archive_array['x']"
      ],
      "execution_count": 8,
      "outputs": [
        {
          "output_type": "execute_result",
          "data": {
            "text/plain": [
              "array([0, 1, 2, 3, 4, 5, 6, 7, 8, 9])"
            ]
          },
          "metadata": {},
          "execution_count": 8
        }
      ]
    },
    {
      "cell_type": "code",
      "metadata": {
        "id": "zchg2pJHrYgK"
      },
      "source": [
        "#Now lets remove them from the memory\n",
        "# rm my_array.npy\n",
        "# rm two_arrays.npz"
      ],
      "execution_count": 13,
      "outputs": []
    },
    {
      "cell_type": "code",
      "metadata": {
        "id": "XanRIPNorYgL"
      },
      "source": [
        "#Now saving and loading text files\n",
        "\n",
        "arr = np.array([[1,2,3],[4,5,6]])\n",
        "np.savetxt('my_test_text.txt',arr,delimiter=',')"
      ],
      "execution_count": 10,
      "outputs": []
    },
    {
      "cell_type": "code",
      "metadata": {
        "colab": {
          "base_uri": "https://localhost:8080/"
        },
        "id": "iioWyOJbrYgM",
        "outputId": "7cf2d49c-3845-41b1-c42b-e0fe7b2e512f"
      },
      "source": [
        "arr = np.loadtxt('my_test_text.txt',delimiter = ',')\n",
        "arr\n"
      ],
      "execution_count": 11,
      "outputs": [
        {
          "output_type": "execute_result",
          "data": {
            "text/plain": [
              "array([[1., 2., 3.],\n",
              "       [4., 5., 6.]])"
            ]
          },
          "metadata": {},
          "execution_count": 11
        }
      ]
    },
    {
      "cell_type": "code",
      "metadata": {
        "id": "FW7vMtdErYgM"
      },
      "source": [
        ""
      ],
      "execution_count": null,
      "outputs": []
    }
  ]
}