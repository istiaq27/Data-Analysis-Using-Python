{
  "nbformat": 4,
  "nbformat_minor": 0,
  "metadata": {
    "colab": {
      "name": "5 - Universal Array Function.ipynb",
      "provenance": [],
      "collapsed_sections": [],
      "include_colab_link": true
    },
    "language_info": {
      "name": "python"
    },
    "kernelspec": {
      "name": "python3",
      "display_name": "Python 3"
    }
  },
  "cells": [
    {
      "cell_type": "markdown",
      "metadata": {
        "id": "view-in-github",
        "colab_type": "text"
      },
      "source": [
        "<a href=\"https://colab.research.google.com/github/istiaq27/Data-Analysis-Using-Python/blob/main/Numpy%20Basic/5.%20Universal%20Array%20Function.ipynb\" target=\"_parent\"><img src=\"https://colab.research.google.com/assets/colab-badge.svg\" alt=\"Open In Colab\"/></a>"
      ]
    },
    {
      "cell_type": "code",
      "metadata": {
        "id": "3loq10rad5jV"
      },
      "source": [
        "import numpy as np\n",
        "\n",
        "# Universal functions perform operations on all elements in an array"
      ],
      "execution_count": 1,
      "outputs": []
    },
    {
      "cell_type": "code",
      "metadata": {
        "colab": {
          "base_uri": "https://localhost:8080/"
        },
        "id": "KOTL9ALQd5jY",
        "outputId": "db70063a-ae3f-436d-981e-f990f295692a"
      },
      "source": [
        "arr = np.arange(11)\n",
        "\n",
        "arr"
      ],
      "execution_count": 2,
      "outputs": [
        {
          "output_type": "execute_result",
          "data": {
            "text/plain": [
              "array([ 0,  1,  2,  3,  4,  5,  6,  7,  8,  9, 10])"
            ]
          },
          "metadata": {},
          "execution_count": 2
        }
      ]
    },
    {
      "cell_type": "code",
      "metadata": {
        "colab": {
          "base_uri": "https://localhost:8080/"
        },
        "id": "KqzZqMzxeECM",
        "outputId": "b1019582-8848-431f-8792-745ef14b0232"
      },
      "source": [
        "np.sqrt(9)"
      ],
      "execution_count": 8,
      "outputs": [
        {
          "output_type": "execute_result",
          "data": {
            "text/plain": [
              "3.0"
            ]
          },
          "metadata": {},
          "execution_count": 8
        }
      ]
    },
    {
      "cell_type": "code",
      "metadata": {
        "colab": {
          "base_uri": "https://localhost:8080/"
        },
        "id": "VI8co1vwd5jZ",
        "outputId": "ee36da8c-aad4-4694-ad9c-3d7be5aed398"
      },
      "source": [
        "#Taking Square Roots\n",
        "\n",
        "np.sqrt(arr)"
      ],
      "execution_count": 3,
      "outputs": [
        {
          "output_type": "execute_result",
          "data": {
            "text/plain": [
              "array([0.        , 1.        , 1.41421356, 1.73205081, 2.        ,\n",
              "       2.23606798, 2.44948974, 2.64575131, 2.82842712, 3.        ,\n",
              "       3.16227766])"
            ]
          },
          "metadata": {},
          "execution_count": 3
        }
      ]
    },
    {
      "cell_type": "code",
      "metadata": {
        "colab": {
          "base_uri": "https://localhost:8080/"
        },
        "id": "4RKQr-W-d5ja",
        "outputId": "0cccdc10-fadf-4a04-9741-63eb40a6a7e6"
      },
      "source": [
        "#Calcualting exponential (e^)\n",
        "\n",
        "np.exp(arr)"
      ],
      "execution_count": 9,
      "outputs": [
        {
          "output_type": "execute_result",
          "data": {
            "text/plain": [
              "array([1.00000000e+00, 2.71828183e+00, 7.38905610e+00, 2.00855369e+01,\n",
              "       5.45981500e+01, 1.48413159e+02, 4.03428793e+02, 1.09663316e+03,\n",
              "       2.98095799e+03, 8.10308393e+03, 2.20264658e+04])"
            ]
          },
          "metadata": {},
          "execution_count": 9
        }
      ]
    },
    {
      "cell_type": "code",
      "metadata": {
        "colab": {
          "base_uri": "https://localhost:8080/"
        },
        "id": "5JbO85XbhtAi",
        "outputId": "85673247-670f-4589-acb5-1745fc1db49e"
      },
      "source": [
        "# Get the element-wise maximum of two arrays\n",
        "\n",
        "a1 = [0, 1, 0]\n",
        "a2 = [1, 0, 7]\n",
        "np.maximum(a1, a2)"
      ],
      "execution_count": 33,
      "outputs": [
        {
          "output_type": "execute_result",
          "data": {
            "text/plain": [
              "array([1, 1, 7])"
            ]
          },
          "metadata": {},
          "execution_count": 33
        }
      ]
    },
    {
      "cell_type": "code",
      "metadata": {
        "colab": {
          "base_uri": "https://localhost:8080/"
        },
        "id": "1XfngCTeeZ6M",
        "outputId": "15883e59-2f4c-46d8-acf7-5c5f0dd1434a"
      },
      "source": [
        "# Random int number between 2 to 7(excluding) ; total 10 random int\n",
        "x = np.random.randint(2,7,size=10)\n",
        "x"
      ],
      "execution_count": 30,
      "outputs": [
        {
          "output_type": "execute_result",
          "data": {
            "text/plain": [
              "array([4, 3, 3, 4, 4, 6, 2, 4, 6, 2])"
            ]
          },
          "metadata": {},
          "execution_count": 30
        }
      ]
    },
    {
      "cell_type": "code",
      "metadata": {
        "colab": {
          "base_uri": "https://localhost:8080/"
        },
        "id": "FfUu0hknfyj0",
        "outputId": "7dc436d2-59a1-4709-9a8f-d284a98369f1"
      },
      "source": [
        "y = np.random.randint(2,9,size=10)\n",
        "y"
      ],
      "execution_count": 29,
      "outputs": [
        {
          "output_type": "execute_result",
          "data": {
            "text/plain": [
              "array([8, 6, 8, 5, 2, 3, 3, 5, 7, 6])"
            ]
          },
          "metadata": {},
          "execution_count": 29
        }
      ]
    },
    {
      "cell_type": "code",
      "metadata": {
        "colab": {
          "base_uri": "https://localhost:8080/"
        },
        "id": "IKDR54Pof5bq",
        "outputId": "b04fc232-bcba-49ae-99dc-5ee3ebff286e"
      },
      "source": [
        "# Addition of 2 array\n",
        "np.add(x,y)"
      ],
      "execution_count": 26,
      "outputs": [
        {
          "output_type": "execute_result",
          "data": {
            "text/plain": [
              "array([10, 12, 11, 13, 10,  6, 11,  5,  7, 10])"
            ]
          },
          "metadata": {},
          "execution_count": 26
        }
      ]
    },
    {
      "cell_type": "code",
      "metadata": {
        "colab": {
          "base_uri": "https://localhost:8080/"
        },
        "id": "xee6PavTggOQ",
        "outputId": "4bfb183f-a9f7-4685-f09f-2fdaedd482df"
      },
      "source": [
        "#Finding max or min between two arrays\n",
        "np.maximum(x,y)"
      ],
      "execution_count": 31,
      "outputs": [
        {
          "output_type": "execute_result",
          "data": {
            "text/plain": [
              "array([8, 6, 8, 5, 4, 6, 3, 5, 7, 6])"
            ]
          },
          "metadata": {},
          "execution_count": 31
        }
      ]
    },
    {
      "cell_type": "code",
      "metadata": {
        "colab": {
          "base_uri": "https://localhost:8080/"
        },
        "id": "6FSZWXpQd5ja",
        "outputId": "15a95dd2-6998-4dc4-a84b-21d69dad37e7"
      },
      "source": [
        "# Binary Functions require two arrays\n",
        "\n",
        "#Random array (normal dist)\n",
        "A = np.random.randn(10)\n",
        "A"
      ],
      "execution_count": 10,
      "outputs": [
        {
          "output_type": "execute_result",
          "data": {
            "text/plain": [
              "array([ 0.29078849, -2.11656347,  0.75832565, -0.8269859 , -1.14144057,\n",
              "       -0.48026588, -0.16664872,  0.37230145,  0.82100011, -0.72266548])"
            ]
          },
          "metadata": {},
          "execution_count": 10
        }
      ]
    },
    {
      "cell_type": "code",
      "metadata": {
        "colab": {
          "base_uri": "https://localhost:8080/"
        },
        "id": "OZG9Pn5sd5jb",
        "outputId": "b4940892-5a4a-45fd-caf8-6b23e7d2eef5"
      },
      "source": [
        "#Random array (normal dist)\n",
        "B = np.random.randn(10)\n",
        "B"
      ],
      "execution_count": 11,
      "outputs": [
        {
          "output_type": "execute_result",
          "data": {
            "text/plain": [
              "array([-1.69469706,  0.51793249,  1.8439338 ,  2.69752304, -0.8584643 ,\n",
              "        1.01019639,  1.85188996,  0.51516846,  0.32868745,  0.10607354])"
            ]
          },
          "metadata": {},
          "execution_count": 11
        }
      ]
    },
    {
      "cell_type": "code",
      "metadata": {
        "colab": {
          "base_uri": "https://localhost:8080/"
        },
        "id": "-FdIzftwd5jc",
        "outputId": "ba2fbe43-ea18-4ffe-a3a8-8e8bd75a4da3"
      },
      "source": [
        "#Addition\n",
        "np.add(A,B)"
      ],
      "execution_count": 18,
      "outputs": [
        {
          "output_type": "execute_result",
          "data": {
            "text/plain": [
              "array([-1.40390856, -1.59863098,  2.60225946,  1.87053714, -1.99990487,\n",
              "        0.52993051,  1.68524124,  0.88746991,  1.14968756, -0.61659194])"
            ]
          },
          "metadata": {},
          "execution_count": 18
        }
      ]
    },
    {
      "cell_type": "code",
      "metadata": {
        "colab": {
          "base_uri": "https://localhost:8080/"
        },
        "id": "oRsK0vcod5jc",
        "outputId": "7b70798c-8238-4cff-f38c-dec40598d53e"
      },
      "source": [
        "#Finding max or min between two arrays\n",
        "np.maximum(A,B)"
      ],
      "execution_count": 34,
      "outputs": [
        {
          "output_type": "execute_result",
          "data": {
            "text/plain": [
              "array([ 0.29078849,  0.51793249,  1.8439338 ,  2.69752304, -0.8584643 ,\n",
              "        1.01019639,  1.85188996,  0.51516846,  0.82100011,  0.10607354])"
            ]
          },
          "metadata": {},
          "execution_count": 34
        }
      ]
    },
    {
      "cell_type": "code",
      "metadata": {
        "colab": {
          "base_uri": "https://localhost:8080/"
        },
        "id": "LqiKBp95d5jd",
        "outputId": "c6097c25-8daf-47a6-af97-1812100a560b"
      },
      "source": [
        "#For full and extensive list of all universal functions\n",
        "website = \"http://docs.scipy.org/doc/numpy/reference/ufuncs.html#available-ufuncs\"\n",
        "import webbrowser\n",
        "webbrowser.open(website)"
      ],
      "execution_count": 35,
      "outputs": [
        {
          "output_type": "execute_result",
          "data": {
            "text/plain": [
              "False"
            ]
          },
          "metadata": {},
          "execution_count": 35
        }
      ]
    }
  ]
}