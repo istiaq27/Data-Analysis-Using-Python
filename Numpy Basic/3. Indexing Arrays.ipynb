{
  "nbformat": 4,
  "nbformat_minor": 0,
  "metadata": {
    "colab": {
      "name": "3 -Indexing Arrays.ipynb",
      "provenance": [],
      "collapsed_sections": [],
      "include_colab_link": true
    },
    "language_info": {
      "name": "python"
    },
    "kernelspec": {
      "name": "python3",
      "display_name": "Python 3"
    }
  },
  "cells": [
    {
      "cell_type": "markdown",
      "metadata": {
        "id": "view-in-github",
        "colab_type": "text"
      },
      "source": [
        "<a href=\"https://colab.research.google.com/github/istiaq27/Data-Analysis-Using-Python/blob/main/Numpy%20Basic/3.%20Indexing%20Arrays.ipynb\" target=\"_parent\"><img src=\"https://colab.research.google.com/assets/colab-badge.svg\" alt=\"Open In Colab\"/></a>"
      ]
    },
    {
      "cell_type": "code",
      "metadata": {
        "id": "0KRmAKz65zAT"
      },
      "source": [
        "import numpy as np"
      ],
      "execution_count": 1,
      "outputs": []
    },
    {
      "cell_type": "code",
      "metadata": {
        "id": "i7qWROdM5zAX"
      },
      "source": [
        "#Creating sample array\n",
        "arr = np.arange(0,11)"
      ],
      "execution_count": 2,
      "outputs": []
    },
    {
      "cell_type": "code",
      "metadata": {
        "colab": {
          "base_uri": "https://localhost:8080/"
        },
        "id": "t5oaKUFf5zAX",
        "outputId": "35f8df6a-f597-4f0c-838f-ea7cda1eed49"
      },
      "source": [
        "#Show\n",
        "arr"
      ],
      "execution_count": 3,
      "outputs": [
        {
          "output_type": "execute_result",
          "data": {
            "text/plain": [
              "array([ 0,  1,  2,  3,  4,  5,  6,  7,  8,  9, 10])"
            ]
          },
          "metadata": {},
          "execution_count": 3
        }
      ]
    },
    {
      "cell_type": "code",
      "metadata": {
        "colab": {
          "base_uri": "https://localhost:8080/"
        },
        "id": "VSuJn60K6A03",
        "outputId": "66bf1a25-99a7-47b4-d080-a514e76d876c"
      },
      "source": [
        "arr.size"
      ],
      "execution_count": 5,
      "outputs": [
        {
          "output_type": "execute_result",
          "data": {
            "text/plain": [
              "11"
            ]
          },
          "metadata": {},
          "execution_count": 5
        }
      ]
    },
    {
      "cell_type": "code",
      "metadata": {
        "colab": {
          "base_uri": "https://localhost:8080/"
        },
        "id": "jvHx5uXY5zAY",
        "outputId": "910c8aae-3a45-4483-93bb-033710b8f73d"
      },
      "source": [
        "#Get a value at an index\n",
        "arr[8]"
      ],
      "execution_count": 8,
      "outputs": [
        {
          "output_type": "execute_result",
          "data": {
            "text/plain": [
              "8"
            ]
          },
          "metadata": {},
          "execution_count": 8
        }
      ]
    },
    {
      "cell_type": "code",
      "metadata": {
        "colab": {
          "base_uri": "https://localhost:8080/"
        },
        "id": "SQyPhEcU5zAZ",
        "outputId": "3f137548-6977-4d8f-8b0b-cabdc54ebb40"
      },
      "source": [
        "#Get values in a range\n",
        "arr[1:5]"
      ],
      "execution_count": 9,
      "outputs": [
        {
          "output_type": "execute_result",
          "data": {
            "text/plain": [
              "array([1, 2, 3, 4])"
            ]
          },
          "metadata": {},
          "execution_count": 9
        }
      ]
    },
    {
      "cell_type": "code",
      "metadata": {
        "colab": {
          "base_uri": "https://localhost:8080/"
        },
        "id": "b1Howgnh5zAZ",
        "outputId": "442593ec-1f60-4602-c406-24212cb4f009"
      },
      "source": [
        "#Get values in a range\n",
        "arr[0:5]"
      ],
      "execution_count": 10,
      "outputs": [
        {
          "output_type": "execute_result",
          "data": {
            "text/plain": [
              "array([0, 1, 2, 3, 4])"
            ]
          },
          "metadata": {},
          "execution_count": 10
        }
      ]
    },
    {
      "cell_type": "code",
      "metadata": {
        "colab": {
          "base_uri": "https://localhost:8080/"
        },
        "id": "hSxNzgWv5zAa",
        "outputId": "6c34fe36-b96a-414d-a9c4-80ec4143a8ae"
      },
      "source": [
        "#Setting a value with index range (Broadcasting)\n",
        "arr[0:5]=55\n",
        "\n",
        "#Show\n",
        "arr"
      ],
      "execution_count": 12,
      "outputs": [
        {
          "output_type": "execute_result",
          "data": {
            "text/plain": [
              "array([55, 55, 55, 55, 55,  5,  6,  7,  8,  9, 10])"
            ]
          },
          "metadata": {},
          "execution_count": 12
        }
      ]
    },
    {
      "cell_type": "code",
      "metadata": {
        "colab": {
          "base_uri": "https://localhost:8080/"
        },
        "id": "C3DDhgTU5zAa",
        "outputId": "96017302-cf60-4ea8-ac8c-6ded1882c6c7"
      },
      "source": [
        "# Reset array, we'll see why i had to reset in a moment\n",
        "arr = np.arange(0,11)\n",
        "\n",
        "#Show\n",
        "arr"
      ],
      "execution_count": 13,
      "outputs": [
        {
          "output_type": "execute_result",
          "data": {
            "text/plain": [
              "array([ 0,  1,  2,  3,  4,  5,  6,  7,  8,  9, 10])"
            ]
          },
          "metadata": {},
          "execution_count": 13
        }
      ]
    },
    {
      "cell_type": "markdown",
      "metadata": {
        "id": "ktXvApTJA6ic"
      },
      "source": [
        "![difference_between_shallow_copy_and_deep_copy.png](data:image/png;base64,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)![deep vs shallow.jpg](data:image/jpeg;base64,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)![deep vs shallow copy.jpg](data:image/jpeg;base64,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)"
      ]
    },
    {
      "cell_type": "markdown",
      "metadata": {
        "id": "Vulj6vTq_zpF"
      },
      "source": [
        "Deep Copy vs Shallow Copy [link text](https://www.geeksforgeeks.org/copy-python-deep-copy-shallow-copy/)"
      ]
    },
    {
      "cell_type": "code",
      "metadata": {
        "colab": {
          "base_uri": "https://localhost:8080/"
        },
        "id": "nNh0HTD95zAb",
        "outputId": "def49459-ab0a-47d5-b44e-92eeb11a6599"
      },
      "source": [
        "#Important notes on Slices\n",
        "# original array will be affected\n",
        "slice_of_arr = arr[0:6]\n",
        "\n",
        "#Show slice\n",
        "slice_of_arr"
      ],
      "execution_count": 21,
      "outputs": [
        {
          "output_type": "execute_result",
          "data": {
            "text/plain": [
              "array([77, 77, 77, 77, 77, 77])"
            ]
          },
          "metadata": {},
          "execution_count": 21
        }
      ]
    },
    {
      "cell_type": "code",
      "metadata": {
        "colab": {
          "base_uri": "https://localhost:8080/"
        },
        "id": "mUKrGlEh5zAc",
        "outputId": "feaf7fba-8509-4d26-d9ed-0cc98c1d6bf2"
      },
      "source": [
        "#Change Slice\n",
        "slice_of_arr[:]=77\n",
        "\n",
        "#Show Slice again\n",
        "slice_of_arr\n"
      ],
      "execution_count": 22,
      "outputs": [
        {
          "output_type": "execute_result",
          "data": {
            "text/plain": [
              "array([77, 77, 77, 77, 77, 77])"
            ]
          },
          "metadata": {},
          "execution_count": 22
        }
      ]
    },
    {
      "cell_type": "code",
      "metadata": {
        "colab": {
          "base_uri": "https://localhost:8080/"
        },
        "id": "4ZjaYueG5zAc",
        "outputId": "7f56ec62-9ddd-4610-d4fe-01862dd28023"
      },
      "source": [
        "# Now note the changes also occur in our original array!\n",
        "arr\n",
        "\n",
        "# Data is not copied, it's a view of the original array! This avoids memory problems!"
      ],
      "execution_count": 23,
      "outputs": [
        {
          "output_type": "execute_result",
          "data": {
            "text/plain": [
              "array([77, 77, 77, 77, 77, 77,  6,  7,  8,  9, 10])"
            ]
          },
          "metadata": {},
          "execution_count": 23
        }
      ]
    },
    {
      "cell_type": "code",
      "metadata": {
        "colab": {
          "base_uri": "https://localhost:8080/"
        },
        "id": "wRnB1jyi5zAd",
        "outputId": "cf5d6ba0-91f2-45f9-84d0-cace39df385b"
      },
      "source": [
        "#To get a copy, need to be explicit\n",
        "arr_copy = arr.copy()\n",
        "\n",
        "arr_copy"
      ],
      "execution_count": 24,
      "outputs": [
        {
          "output_type": "execute_result",
          "data": {
            "text/plain": [
              "array([77, 77, 77, 77, 77, 77,  6,  7,  8,  9, 10])"
            ]
          },
          "metadata": {},
          "execution_count": 24
        }
      ]
    },
    {
      "cell_type": "code",
      "metadata": {
        "colab": {
          "base_uri": "https://localhost:8080/"
        },
        "id": "3Crf3DB57SOy",
        "outputId": "89c492a8-fe85-478a-b697-2c530d22bd91"
      },
      "source": [
        "arr_copy = np.arange(13)\n",
        "arr_copy"
      ],
      "execution_count": 25,
      "outputs": [
        {
          "output_type": "execute_result",
          "data": {
            "text/plain": [
              "array([ 0,  1,  2,  3,  4,  5,  6,  7,  8,  9, 10, 11, 12])"
            ]
          },
          "metadata": {},
          "execution_count": 25
        }
      ]
    },
    {
      "cell_type": "code",
      "metadata": {
        "colab": {
          "base_uri": "https://localhost:8080/"
        },
        "id": "VcuoT4mK7gzQ",
        "outputId": "e1402885-6b92-430b-be11-f37857659449"
      },
      "source": [
        "# we changed the value of copied array but original array remains same\n",
        "arr"
      ],
      "execution_count": 26,
      "outputs": [
        {
          "output_type": "execute_result",
          "data": {
            "text/plain": [
              "array([77, 77, 77, 77, 77, 77,  6,  7,  8,  9, 10])"
            ]
          },
          "metadata": {},
          "execution_count": 26
        }
      ]
    },
    {
      "cell_type": "code",
      "metadata": {
        "colab": {
          "base_uri": "https://localhost:8080/"
        },
        "id": "H_ANZ60j5zAd",
        "outputId": "86da1691-f2eb-45fd-ec56-8b654d211efa"
      },
      "source": [
        "# Indexing a 2D array\n",
        "\n",
        "arr_2d = np.array(([5,10,15],[20,25,30],[35,40,45]))\n",
        "\n",
        "#Show\n",
        "arr_2d\n",
        "\n"
      ],
      "execution_count": 27,
      "outputs": [
        {
          "output_type": "execute_result",
          "data": {
            "text/plain": [
              "array([[ 5, 10, 15],\n",
              "       [20, 25, 30],\n",
              "       [35, 40, 45]])"
            ]
          },
          "metadata": {},
          "execution_count": 27
        }
      ]
    },
    {
      "cell_type": "code",
      "metadata": {
        "colab": {
          "base_uri": "https://localhost:8080/"
        },
        "id": "nya1kDZp5zAd",
        "outputId": "ba6b9cd7-7bae-4276-cba3-4c8fa7066700"
      },
      "source": [
        "#Indexing row\n",
        "arr_2d[1]\n"
      ],
      "execution_count": 28,
      "outputs": [
        {
          "output_type": "execute_result",
          "data": {
            "text/plain": [
              "array([20, 25, 30])"
            ]
          },
          "metadata": {},
          "execution_count": 28
        }
      ]
    },
    {
      "cell_type": "code",
      "metadata": {
        "colab": {
          "base_uri": "https://localhost:8080/"
        },
        "id": "guwVtbg-5zAe",
        "outputId": "cb9b6f3c-71fc-42b9-f2c0-ebdc7dcf8d39"
      },
      "source": [
        "# Format is arr_2d[row][col] or arr_2d[row,col]\n",
        "\n",
        "# Getting individual element value\n",
        "arr_2d[1][0] \n"
      ],
      "execution_count": 32,
      "outputs": [
        {
          "output_type": "execute_result",
          "data": {
            "text/plain": [
              "20"
            ]
          },
          "metadata": {},
          "execution_count": 32
        }
      ]
    },
    {
      "cell_type": "code",
      "metadata": {
        "colab": {
          "base_uri": "https://localhost:8080/"
        },
        "id": "7WY1Fj9c5zAe",
        "outputId": "605d4711-3c14-4414-8084-80286e01cd53"
      },
      "source": [
        "# Getting individual element value\n",
        "arr_2d[1,0]"
      ],
      "execution_count": 33,
      "outputs": [
        {
          "output_type": "execute_result",
          "data": {
            "text/plain": [
              "20"
            ]
          },
          "metadata": {},
          "execution_count": 33
        }
      ]
    },
    {
      "cell_type": "code",
      "metadata": {
        "colab": {
          "base_uri": "https://localhost:8080/"
        },
        "id": "DzcvyULl5zAe",
        "outputId": "43122dde-6e38-48f0-be0f-2518092dfbe9"
      },
      "source": [
        "# 2D array slicing\n",
        "\n",
        "#Shape (2,2) from top right corner\n",
        "arr_2d[:2,1:]\n",
        "\n"
      ],
      "execution_count": 34,
      "outputs": [
        {
          "output_type": "execute_result",
          "data": {
            "text/plain": [
              "array([[10, 15],\n",
              "       [25, 30]])"
            ]
          },
          "metadata": {},
          "execution_count": 34
        }
      ]
    },
    {
      "cell_type": "code",
      "metadata": {
        "colab": {
          "base_uri": "https://localhost:8080/"
        },
        "id": "rkMWt8d55zAe",
        "outputId": "142c6480-cbfa-4ee8-d3dd-a84d45bf3074"
      },
      "source": [
        "#Shape bottom row\n",
        "arr_2d[2]\n"
      ],
      "execution_count": 35,
      "outputs": [
        {
          "output_type": "execute_result",
          "data": {
            "text/plain": [
              "array([35, 40, 45])"
            ]
          },
          "metadata": {},
          "execution_count": 35
        }
      ]
    },
    {
      "cell_type": "code",
      "metadata": {
        "colab": {
          "base_uri": "https://localhost:8080/"
        },
        "id": "P1EEhPeI5zAf",
        "outputId": "c503619a-4642-45e0-8e10-d751dc006cd3"
      },
      "source": [
        "#Shape bottom row\n",
        "arr_2d[2,:]"
      ],
      "execution_count": 36,
      "outputs": [
        {
          "output_type": "execute_result",
          "data": {
            "text/plain": [
              "array([35, 40, 45])"
            ]
          },
          "metadata": {},
          "execution_count": 36
        }
      ]
    },
    {
      "cell_type": "code",
      "metadata": {
        "colab": {
          "base_uri": "https://localhost:8080/"
        },
        "id": "ONwgcPdI5zAf",
        "outputId": "6c1725ab-5db7-4c97-c987-91a8b82c383e"
      },
      "source": [
        "# Fancy Indexing\n",
        "\n",
        "#Set up matrix\n",
        "arr2d = np.zeros((10,10))\n",
        "arr2d"
      ],
      "execution_count": 39,
      "outputs": [
        {
          "output_type": "execute_result",
          "data": {
            "text/plain": [
              "array([[0., 0., 0., 0., 0., 0., 0., 0., 0., 0.],\n",
              "       [0., 0., 0., 0., 0., 0., 0., 0., 0., 0.],\n",
              "       [0., 0., 0., 0., 0., 0., 0., 0., 0., 0.],\n",
              "       [0., 0., 0., 0., 0., 0., 0., 0., 0., 0.],\n",
              "       [0., 0., 0., 0., 0., 0., 0., 0., 0., 0.],\n",
              "       [0., 0., 0., 0., 0., 0., 0., 0., 0., 0.],\n",
              "       [0., 0., 0., 0., 0., 0., 0., 0., 0., 0.],\n",
              "       [0., 0., 0., 0., 0., 0., 0., 0., 0., 0.],\n",
              "       [0., 0., 0., 0., 0., 0., 0., 0., 0., 0.],\n",
              "       [0., 0., 0., 0., 0., 0., 0., 0., 0., 0.]])"
            ]
          },
          "metadata": {},
          "execution_count": 39
        }
      ]
    },
    {
      "cell_type": "code",
      "metadata": {
        "colab": {
          "base_uri": "https://localhost:8080/"
        },
        "id": "yY9oF27i5zAf",
        "outputId": "3710af61-2feb-4e83-dc25-d6eaf69e3ffc"
      },
      "source": [
        "#Length of array\n",
        "arr_length = arr2d.shape[1]\n",
        "arr_length"
      ],
      "execution_count": 40,
      "outputs": [
        {
          "output_type": "execute_result",
          "data": {
            "text/plain": [
              "10"
            ]
          },
          "metadata": {},
          "execution_count": 40
        }
      ]
    },
    {
      "cell_type": "code",
      "metadata": {
        "colab": {
          "base_uri": "https://localhost:8080/"
        },
        "id": "dPxbt64j5zAf",
        "outputId": "b924ff4e-ae93-4009-abd8-96408cf75c11"
      },
      "source": [
        "#Set up array\n",
        "\n",
        "for i in range(arr_length):\n",
        "    arr2d[i] = i\n",
        "    \n",
        "arr2d"
      ],
      "execution_count": 41,
      "outputs": [
        {
          "output_type": "execute_result",
          "data": {
            "text/plain": [
              "array([[0., 0., 0., 0., 0., 0., 0., 0., 0., 0.],\n",
              "       [1., 1., 1., 1., 1., 1., 1., 1., 1., 1.],\n",
              "       [2., 2., 2., 2., 2., 2., 2., 2., 2., 2.],\n",
              "       [3., 3., 3., 3., 3., 3., 3., 3., 3., 3.],\n",
              "       [4., 4., 4., 4., 4., 4., 4., 4., 4., 4.],\n",
              "       [5., 5., 5., 5., 5., 5., 5., 5., 5., 5.],\n",
              "       [6., 6., 6., 6., 6., 6., 6., 6., 6., 6.],\n",
              "       [7., 7., 7., 7., 7., 7., 7., 7., 7., 7.],\n",
              "       [8., 8., 8., 8., 8., 8., 8., 8., 8., 8.],\n",
              "       [9., 9., 9., 9., 9., 9., 9., 9., 9., 9.]])"
            ]
          },
          "metadata": {},
          "execution_count": 41
        }
      ]
    },
    {
      "cell_type": "code",
      "metadata": {
        "colab": {
          "base_uri": "https://localhost:8080/"
        },
        "id": "kijlepGJ5zAg",
        "outputId": "1588ba4a-4da1-425a-e7b7-4e55bbcfb421"
      },
      "source": [
        "#Fancy indexing allows the following\n",
        "arr2d[[2,4,6,8]]"
      ],
      "execution_count": 42,
      "outputs": [
        {
          "output_type": "execute_result",
          "data": {
            "text/plain": [
              "array([[2., 2., 2., 2., 2., 2., 2., 2., 2., 2.],\n",
              "       [4., 4., 4., 4., 4., 4., 4., 4., 4., 4.],\n",
              "       [6., 6., 6., 6., 6., 6., 6., 6., 6., 6.],\n",
              "       [8., 8., 8., 8., 8., 8., 8., 8., 8., 8.]])"
            ]
          },
          "metadata": {},
          "execution_count": 42
        }
      ]
    },
    {
      "cell_type": "code",
      "metadata": {
        "colab": {
          "base_uri": "https://localhost:8080/"
        },
        "id": "n1bt-oIq5zAg",
        "outputId": "694c9102-1f4b-4adb-903c-20b5064333b4"
      },
      "source": [
        "#Allows in any order\n",
        "arr2d[[6,4,2,7]]"
      ],
      "execution_count": 43,
      "outputs": [
        {
          "output_type": "execute_result",
          "data": {
            "text/plain": [
              "array([[6., 6., 6., 6., 6., 6., 6., 6., 6., 6.],\n",
              "       [4., 4., 4., 4., 4., 4., 4., 4., 4., 4.],\n",
              "       [2., 2., 2., 2., 2., 2., 2., 2., 2., 2.],\n",
              "       [7., 7., 7., 7., 7., 7., 7., 7., 7., 7.]])"
            ]
          },
          "metadata": {},
          "execution_count": 43
        }
      ]
    },
    {
      "cell_type": "code",
      "metadata": {
        "id": "HPHCN4qw5zAg"
      },
      "source": [
        ""
      ],
      "execution_count": null,
      "outputs": []
    }
  ]
}