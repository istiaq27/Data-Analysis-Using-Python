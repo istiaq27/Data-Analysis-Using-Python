{
  "nbformat": 4,
  "nbformat_minor": 0,
  "metadata": {
    "colab": {
      "name": "2 - Using arrays and scalars.ipynb",
      "provenance": [],
      "collapsed_sections": [],
      "include_colab_link": true
    },
    "language_info": {
      "name": "python"
    },
    "kernelspec": {
      "name": "python3",
      "display_name": "Python 3"
    }
  },
  "cells": [
    {
      "cell_type": "markdown",
      "metadata": {
        "id": "view-in-github",
        "colab_type": "text"
      },
      "source": [
        "<a href=\"https://colab.research.google.com/github/istiaq27/Data-Analysis-Using-Python/blob/main/Numpy%20Basic/2.%20Using%20arrays%20and%20scalars.ipynb\" target=\"_parent\"><img src=\"https://colab.research.google.com/assets/colab-badge.svg\" alt=\"Open In Colab\"/></a>"
      ]
    },
    {
      "cell_type": "code",
      "metadata": {
        "id": "MhVDYK7kyUWR"
      },
      "source": [
        "import numpy as np"
      ],
      "execution_count": 9,
      "outputs": []
    },
    {
      "cell_type": "code",
      "metadata": {
        "id": "X9EcPGafyUWV"
      },
      "source": [
        "#Takes care of floats\n",
        "# for python 2.x\n",
        "# from __future__ import division"
      ],
      "execution_count": 8,
      "outputs": []
    },
    {
      "cell_type": "code",
      "metadata": {
        "colab": {
          "base_uri": "https://localhost:8080/"
        },
        "id": "lBehaOzRyUWU",
        "outputId": "1435fc3d-f845-4031-b601-56198eaafd5c"
      },
      "source": [
        "5/2"
      ],
      "execution_count": 6,
      "outputs": [
        {
          "output_type": "execute_result",
          "data": {
            "text/plain": [
              "2.5"
            ]
          },
          "metadata": {},
          "execution_count": 6
        }
      ]
    },
    {
      "cell_type": "code",
      "metadata": {
        "colab": {
          "base_uri": "https://localhost:8080/"
        },
        "id": "kaSQOsz1zaq4",
        "outputId": "10802a6d-c3dc-48d7-e0d6-484ffce62efb"
      },
      "source": [
        "5//2"
      ],
      "execution_count": 4,
      "outputs": [
        {
          "output_type": "execute_result",
          "data": {
            "text/plain": [
              "2"
            ]
          },
          "metadata": {},
          "execution_count": 4
        }
      ]
    },
    {
      "cell_type": "code",
      "metadata": {
        "colab": {
          "base_uri": "https://localhost:8080/"
        },
        "id": "G4H6EnhjyUWW",
        "outputId": "d19940b7-6be8-442f-e8db-881e54937df2"
      },
      "source": [
        "# Create array\n",
        "arr1 = np.array([[1,2,3],[8,9,10]])\n",
        "\n",
        "#Show\n",
        "arr1"
      ],
      "execution_count": 10,
      "outputs": [
        {
          "output_type": "execute_result",
          "data": {
            "text/plain": [
              "array([[ 1,  2,  3],\n",
              "       [ 8,  9, 10]])"
            ]
          },
          "metadata": {},
          "execution_count": 10
        }
      ]
    },
    {
      "cell_type": "code",
      "metadata": {
        "colab": {
          "base_uri": "https://localhost:8080/"
        },
        "id": "ZyyiX_7IyUWW",
        "outputId": "7a6cc03e-18d6-4fb0-d1b9-0b0ff5ea94d8"
      },
      "source": [
        "#Multiplying Arrays\n",
        "arr1*arr1"
      ],
      "execution_count": 11,
      "outputs": [
        {
          "output_type": "execute_result",
          "data": {
            "text/plain": [
              "array([[  1,   4,   9],\n",
              "       [ 64,  81, 100]])"
            ]
          },
          "metadata": {},
          "execution_count": 11
        }
      ]
    },
    {
      "cell_type": "code",
      "metadata": {
        "colab": {
          "base_uri": "https://localhost:8080/"
        },
        "id": "cyK_SMWpyUWX",
        "outputId": "84a6144e-4817-4f04-fcee-f61a9e1261c3"
      },
      "source": [
        "#Subtraction\n",
        "arr1-arr1"
      ],
      "execution_count": 12,
      "outputs": [
        {
          "output_type": "execute_result",
          "data": {
            "text/plain": [
              "array([[0, 0, 0],\n",
              "       [0, 0, 0]])"
            ]
          },
          "metadata": {},
          "execution_count": 12
        }
      ]
    },
    {
      "cell_type": "code",
      "metadata": {
        "colab": {
          "base_uri": "https://localhost:8080/"
        },
        "id": "UFQzIfuyyUWX",
        "outputId": "67245849-8d8b-4ba9-d64a-6030068be5f7"
      },
      "source": [
        "#Arithmetic operations with scalars on array\n",
        "\n",
        "1 // arr1"
      ],
      "execution_count": 18,
      "outputs": [
        {
          "output_type": "execute_result",
          "data": {
            "text/plain": [
              "array([[1, 0, 0],\n",
              "       [0, 0, 0]])"
            ]
          },
          "metadata": {},
          "execution_count": 18
        }
      ]
    },
    {
      "cell_type": "code",
      "metadata": {
        "colab": {
          "base_uri": "https://localhost:8080/"
        },
        "id": "wYmkEajg0ct5",
        "outputId": "07e6cefa-3fa3-448c-baa8-4768162cd915"
      },
      "source": [
        "1 / np.array([1,2,3])"
      ],
      "execution_count": 17,
      "outputs": [
        {
          "output_type": "execute_result",
          "data": {
            "text/plain": [
              "array([1.        , 0.5       , 0.33333333])"
            ]
          },
          "metadata": {},
          "execution_count": 17
        }
      ]
    },
    {
      "cell_type": "code",
      "metadata": {
        "colab": {
          "base_uri": "https://localhost:8080/"
        },
        "id": "2gh762HZyUWY",
        "outputId": "ef602f3c-89ff-42f1-d505-247f3c4f7c4d"
      },
      "source": [
        "#Exponential operation\n",
        "arr1 ** 3"
      ],
      "execution_count": 19,
      "outputs": [
        {
          "output_type": "execute_result",
          "data": {
            "text/plain": [
              "array([[   1,    8,   27],\n",
              "       [ 512,  729, 1000]])"
            ]
          },
          "metadata": {},
          "execution_count": 19
        }
      ]
    }
  ]
}