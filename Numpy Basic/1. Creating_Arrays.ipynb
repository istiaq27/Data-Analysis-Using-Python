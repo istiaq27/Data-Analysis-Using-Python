{
  "nbformat": 4,
  "nbformat_minor": 0,
  "metadata": {
    "colab": {
      "name": "1 - Creating Arrays.ipynb",
      "provenance": [],
      "collapsed_sections": [],
      "include_colab_link": true
    },
    "language_info": {
      "name": "python"
    },
    "kernelspec": {
      "name": "python3",
      "display_name": "Python 3"
    }
  },
  "cells": [
    {
      "cell_type": "markdown",
      "metadata": {
        "id": "view-in-github",
        "colab_type": "text"
      },
      "source": [
        "<a href=\"https://colab.research.google.com/github/istiaq27/Data-Analysis-Using-Python/blob/main/Numpy%20Basic/1.%20Creating_Arrays.ipynb\" target=\"_parent\"><img src=\"https://colab.research.google.com/assets/colab-badge.svg\" alt=\"Open In Colab\"/></a>"
      ]
    },
    {
      "cell_type": "code",
      "metadata": {
        "id": "aC-js70Lkn6Y"
      },
      "source": [
        "# Creating Numpy arrays\n",
        "import numpy as np\n",
        "\n",
        "# Converting from a list\n",
        "# Let's start with a list\n",
        "\n",
        "my_list1 = [1,2,3,4]\n",
        "\n",
        "my_array1 = np.array(my_list1)"
      ],
      "execution_count": 8,
      "outputs": []
    },
    {
      "cell_type": "code",
      "metadata": {
        "id": "0XxbBnuvkn6g",
        "colab": {
          "base_uri": "https://localhost:8080/"
        },
        "outputId": "2636fd1b-3d78-4e44-bddd-dd8de14e5abd"
      },
      "source": [
        "#Print out array\n",
        "\n",
        "my_array1"
      ],
      "execution_count": 2,
      "outputs": [
        {
          "output_type": "execute_result",
          "data": {
            "text/plain": [
              "array([1, 2, 3, 4])"
            ]
          },
          "metadata": {},
          "execution_count": 2
        }
      ]
    },
    {
      "cell_type": "code",
      "metadata": {
        "id": "aIEblzJTkn6h",
        "colab": {
          "base_uri": "https://localhost:8080/"
        },
        "outputId": "2afe4edf-4339-47ad-e129-b935c358b051"
      },
      "source": [
        "# Make another list\n",
        "my_list2 = [11,22,33,44]\n",
        "\n",
        "#Make a list of lists\n",
        "my_lists = [my_list1,my_list2]\n",
        "\n",
        "#Make multi-dimensional array\n",
        "my_array2 = np.array(my_lists)\n",
        "\n",
        "#Show array\n",
        "my_array2"
      ],
      "execution_count": 3,
      "outputs": [
        {
          "output_type": "execute_result",
          "data": {
            "text/plain": [
              "array([[ 1,  2,  3,  4],\n",
              "       [11, 22, 33, 44]])"
            ]
          },
          "metadata": {},
          "execution_count": 3
        }
      ]
    },
    {
      "cell_type": "code",
      "metadata": {
        "id": "Vi_HfyChkn6i",
        "colab": {
          "base_uri": "https://localhost:8080/"
        },
        "outputId": "7864e7a3-0f7b-47f0-885f-a8106da42bb1"
      },
      "source": [
        "#Let's get the size of the array\n",
        "# here,\n",
        "# 2 rows\n",
        "# 4 col \n",
        "my_array2.shape"
      ],
      "execution_count": 9,
      "outputs": [
        {
          "output_type": "execute_result",
          "data": {
            "text/plain": [
              "(2, 4)"
            ]
          },
          "metadata": {},
          "execution_count": 9
        }
      ]
    },
    {
      "cell_type": "code",
      "metadata": {
        "colab": {
          "base_uri": "https://localhost:8080/"
        },
        "id": "7d_kmX2vm5By",
        "outputId": "0bd9e0f1-ecea-4334-dd4e-a2babf7255f0"
      },
      "source": [
        "#Find out the data type of the array 1\n",
        "my_array1.dtype"
      ],
      "execution_count": 11,
      "outputs": [
        {
          "output_type": "execute_result",
          "data": {
            "text/plain": [
              "dtype('int64')"
            ]
          },
          "metadata": {},
          "execution_count": 11
        }
      ]
    },
    {
      "cell_type": "code",
      "metadata": {
        "id": "1VLhlFWZkn6i",
        "colab": {
          "base_uri": "https://localhost:8080/"
        },
        "outputId": "db78d124-9d3c-48c4-e23b-0a47deed8b0d"
      },
      "source": [
        "#Find out the data type of the array 2\n",
        "my_array2.dtype"
      ],
      "execution_count": 12,
      "outputs": [
        {
          "output_type": "execute_result",
          "data": {
            "text/plain": [
              "dtype('int64')"
            ]
          },
          "metadata": {},
          "execution_count": 12
        }
      ]
    },
    {
      "cell_type": "markdown",
      "metadata": {
        "id": "EDzmhsdUr70t"
      },
      "source": [
        "![zeros vs empty.PNG](data:image/png;base64,iVBORw0KGgoAAAANSUhEUgAAAvwAAAFTCAYAAABF+tgpAAAAAXNSR0IArs4c6QAAAARnQU1BAACxjwv8YQUAAAAJcEhZcwAADsMAAA7DAcdvqGQAAEgeSURBVHhe7d2L3x1Vnef7+ed8zZzOa5zmzPTYF+Ecmh5tpCXMKLRzGO4amptAPzYRI0GJEAUaQSOJQtSAaQkYY9KdQBMFEiWJsQMjgU7HxFmnVtVatdflt6pW7V3P3rtqf96v13pBatdlXapWfZ969rP3v/vjW/9MUSgUCoVCoVAolHGWf6cAAAAAjBaBHwAAABgxAj8AAAAwYgR+AAAAYMQI/ADWzwdH1NpVN6oP/ckmdcsLp83CGVw8q/Y9tKnY341qw8171EmzGAAWhnkOA0DgB7A+Lp5Wz9ysb4I3qo27hJtgcVM7un+PevCuNXXplbeW65Xl8k3qyrueVDt/cdasGGjbLwDMC/McBoLAD6yq03vURn3juWF9niCdfG6z2lDsf8Md+9QZs8x1ctfa5OaXKFc+/oY6b9b3fLBf3X6ZXmdNPcO9EMCCMM9hKAj8wKpaz8B/7mDrjerkc1vUxrVdaufRE+rsuQtmaeHcCbXvK/eWN9HG7c2NdMPafpV4RgYA64d5DgNC4AdW1ToG/mPfvre8SV2y7XWzpKvj6tFr9I3wRrV2yCwKXXxdPfgxvc696om3zTIAmBPmOQwJgX8VuUHv4ll1bO8Odf11t5onDbeqj9z2tNon/G7SPmlIvZ8w9bq7/Pypg+rhu9bURy6vJrkNH7tXXf/4QXXmYrGircv1m0xdion0ui3q4QPvVDvyHFFr5Trb1YGLF9TJ/WEbtqudvzhn1q0c3lb9EdQV3z5hlsSmmcDP/mKvevCue9Ul5ZOeouj3Zq7tUgek3++6ff+702rf41vUlfZ9nZfdqq64a0fd92eP70/3lad7X9gxkYt+2nRW7dxU/fv2l52nUp4L6sUHqnWu/aH77MnexO5Ujx43i7qqb3Kb1c53zTKBHa9Ln5r2QEBhyjmx9YfmxOujnBMPbS/Xay5F3czqtYvvqH1Pb1PXOu9vv+TqzerBvSeEJ9pOG4t/6bn3ntsmfbPxObdfTB84fbfhyrWib/erYx+YVULvnVC73Tm53OZOdW0xn+9+K6wN8xyGhcC/iuxN6Jot6pbPVJNaVC7bonYHE9CsgX/D5fbmE5ePfH67uuVq+TX9yQdrh8PQaSf+e9WVqTbo7Q45N7i3d6kr9PKPPa0OR6G5kDn5TpxThx+1v5IVymWb1TOnzKqW7fsi3G+wPyCE5aqH1T333Znuq6+8Hrzfs3tftAd+pc6/vK2qw6a94ntT1bt71bX69bA/Tz2vrtTLr9mljplF2Yqgcvbtg+rB6/UN91Z17XPyuVY7vktdqo/1mefX5e8QsCKmnBNnDfyjmhOnCfyn9qlbyk+3kctHHjoShH7bxi1qrX47zKTU956Lp9Xuz1c/zIjlcmFuPrVHXWt+6JJLWHfmOQwLgX8V2ZtQUTZ8bE09uPe4OvM789q7R9SDn6peC58mzBr4y33esUPte9vccPRTqBe2qUvMa3riu3LbfnX0XXMj+10xaT9gJu21/YmQW7Th6i3qYbcNersvmsB8lXsjmzyRlp5a24C74YGD8h9QBc68sKU6RnHzePjQCXXeHsd9b+Z1wc3A7Xtd7/2T7c4XN7/by5uref36pydPlXRf7d2mPlK+tk296D2om6YvCm1hRZ1QT1yn9yv/Ktk+dQqfDp5/aVtVl+Jmnc3pF130ebL7ePx8L/a6Wit/cAr7BOhgyjmx9RpKvD7WOVFUf2RlcG+4+IZ60Cy/9It7J20s+uDM0T31DwJ+vSZt/NBld6pbvn1EnbRtdNT9e9XD6pmj70zm2HffUM/YHwT03Cz0w8an3lAn6/faX1Dn3zuhDv9wh7r+U097gZ95DkND4F9FdtK5Zoc66gZA64B5UnPzHu/J7qyB/9LHpV9HTn4t+vAv4htOXdfLngx+FWwn/u1qn9SGi8V+y7C6ST141CzTXnu6uplGT63tW1iK9V8zixoVN6synK+pJ8InRaVz6sU14fgtfX/sqTuLbYq++vobZonrtHrmBr3PG9XaYbOoNGVfJMKI68wPN5fHi36d3/Dk7+R3qh8EUueJKLgR6t+AbNxShIDUr95rtk+KH0rEcQAyTDkntl5DidfHOScKnI+WDJ/Wn31hS7n8ki8eFN66Uzhufvtwxz7nddvGh9Xu98yi0MViHfOHtOKcUNTpCTOPTn6YOKEeLX+oS//xbIh5DkND4F9FM96kpg388nZ2Iku9D3JyE0vd3PzlEzY8++/rTDy1tr/aDp/Ip9hfsUZP2SbqdrvHb+n7Oggk3qt54CFd9/APvKbsi7bzQLOfQnGZ/2Sp6cmfXMd85z9wfkMS/lZCMOvxgGnnxGm3G+WcGDlXXJvV0/QNm4r2e9fxBfNApOn976Y93g827W1UR80PMN4PCr766fxX7IOMs2r3HXq/+q1Uu9QB+xuXBsxzGBoC/ypal5tU+vW8m1tqIpv+5pY6rvTU2v7x2vUv5Px6tZD1ftWqeMdv6Xtb5w8lfk08beAX+6LtPDBs30z+MNd58uc+KTT6uTFN/mi4bUy4EWJmU86J0243yjnR44R9/U2xUZidtLG9uO1pb2M9Nze91UZaR3gP/yVXr6nrt0h/sMs8h+Eh8K+idblJpV9ftptb9NTa/jv1h2uSFQr80ZM+++/EH/P2dWOyvzJvvHEXuBFiZlPOidNuN8o50XFyV/VlVB+6qqiL+HaVJQz8mv5W3L271D3ht+IWJXxLEvMchobAv4rW5SaVfn1RNzf7hOr2l+L3wbpPre17SZs+mi5if238xYNmQaaWvrd91XfgF/ui7Tyo+e/lPfyo2Vfi4zrr97Z6bxvozh5n8mt3yTvmPcK8txUzmHJOnHa7Uc6JxtkiTJcfLiB9SlnNvoWm63Xb3sZ6bk59uljBtq95bilcPKeOHdqhNuoffoLfaDLPYWgI/KtoxpuU/HnMF9TRr5v3hy5D4K+/kjzxcXL1U+vtaq0Ms7kfxWnYP1rVT8Ra/+DK0dL36xL4U31h65LxsXL1e/bXtqt7dLsbnvzF74+dwgcHq+MU+5HCyQSfXoEeTDkn1stT18MvdlR/65OYS0c1J2qniv4w4dj7+E+BfRvRFZ0+W76ljVr9R7v3yn8fIP7RbjNp3mWew9AQ+FfRtDc3++Tkss3q0aPml5v6I9Te2m8+T7iauOYb+O9Va3uPex+jduatveoe8/nV8WfWW5P3Tuoif+zcpG5SX518zvza+vLqY/wmdSicO6uOHd2rHr7rTvWg266Wvp8t8Hfsi/rGuEnd/sLpyceKSupP5alK45O/rM+nLvr2jjV1+9N71eG3z6qz9qP1zPm0Zj9HvO2P2fh8avRh2jmx/rSuYn576o36S/HOv3tc7d62Vs0PwnajnBPrj98swv6BjPf9nytCrP1YzvuqP5St56BiHjh7+rjat2u72niHe5xU2331PHrVw+qJQ5O5Lf2xnPqjV7eoB3cdVEdPB/V4u/hBqaxn8EfNzHMYGAL/Kpr65lZMXuYj1qJShN5b7ljEE/50kf9YzGE/ji71JKjp5lZq+eItU7x2rWvgT5dUX9hfJ/tF/mg6+0Su/bcak48VTH8Ch9O3qSJ9OU6g/hhTvoESs5h6TiyuWfuDf1RuVVfet2UBT/jTZT3nxHruaizB3NLyxVtl8Y6Tanug8xdvtffdlY+/EfwAxDyHYSHwr6IZbm7l16Bv2xx9Dby+iaRuYut7c3tYPRF89fyGKzere374hjrbdGPT7Oc8J9/rmb65uc4e368eXdusLnWegNuvY995NHhyvq6Bf4q+0OP5+BZ1RV33W9VHrikCvfAZ12dfqt7W0/oV+4Wcr+Mvn4I+vb2o7531+VRuc/VmdfvT1TnVqP6tQ/DkDehqljlRXVAn9z+trrV/5HnZreqKu3aofacvJLcb45w4VeDXijnowK4nvfrqPrz0evPE3X4hVynVdokel7Af1or71X51LHpgoZ+4H1TPbNuirrza+fbjyzepS2/brnb+Qv6NBfMchoTAj4HqMvFLmr9hclhm7Ysczd+6G7Gf8tHhi2y6sr9x2LC23/v0DGA1MSfOHfMcBoTAj4Ga8eZm/0Btyo+dWy7rH/jtH+02ffJFyL7VoXwbgVnWm/oPENfvRgsMC3PiIjDPYSgI/Bio2W5u9iPopvnYueWz3oF/8sd8nZ78OV+rL791YUrrtV9g0JgTF4J5DgNB4MdAzXBze3evulZv2/UjNZfWOgd++4d83qdaZHI+ueOWF3q4aV08q/a53+BpFgNgTlwY5jkMAIEfAAAAGDECPwAAADBiBH4AAABgxAj8AAAAwIgR+IEenfj1O+q2+76hPn3bVnXw8JtmKQAMF/MaMHwEfqBHa1t3lJ+soIu+OQLA0DGvAcNH4Ad6dN1nv1LfGHX5/e//j3kFAIaJeQ0YPgI/0KP/728e8W6M58/zFfUAho15DRg+Aj/QoxvvftS7MX7wr/9mXgGAYWJeA4aPwA/06NZ7v+7dGH/7Hl9bCWDYmNeA4SPwAz3atPaEd2P8l3feM68AwDAxrwHDR+AHenTnA095N8ZTv3nXvAIAw8S8BgwfgR/o0ee/9LR3Y/zVyX8xrwDAMDGvAcNH4Ad69Ldbv+3dGN/65a/NKwAwTMxrwPAR+IEePfDVZ70b48/fOmleAYBhYl4Dho/AD/ToS49+17sxvvbzX5lXAGCYmNeA4SPwAz3a+vXnvRvjP712zLwCAMPEvAYMH4Ef6NEjT/7AuzH+8gR/3AZg2JjXgOEj8AM90n/M9hfXrpU3xU/fttUsBYDhYl4Dho/AD6yDg4ffNP8HAOPAvAYMF4EfAAAAGDECPwAAADBiBH4AAABgxAj8AAAAwIgR+AEAAIARI/ADAAAAI0bgBwAAAEaMwA/07IvbdpZfUHPvlm+pX508Y5YCwHAxrwHDRuAHenTq9LvlTdGWb+56ybwCAMPEvAYMH4Ef6NE/vvqWd2N8+BvPm1cAYJiY14DhI/ADPXr16C+9G+OWx75nXgGAYWJeA4aPwA/06OibJ7wb4+ZHdppXAGCYmNeA4SPwAz168/ivvRvj2tYd5hUAGCbmNWD4CPxAj3554jfejfHeLc+YVwBgmJjXgOEj8AM9Ovnrd7wb412bnzKvAMAwMa8Bw0fgB3r0mzO/9W6Mt3/hSfMKAAwT8xowfAR+oEfv/vZ978Z4233fMK8AwDAxrwHDR+AHenT2/XPejfGmux8zrwDAMDGvAcNH4Ad6dO7fzns3xuvv2GZeAYBhYl4Dho/AD/TowoWL3o3xrz/3FfMKAAwT8xowfAR+oGfujZFPswAwBsxrwLAR+IGefXHbzvKm+OHLP6u+v/eQWQoAw8W8BgwbgR9YB6dOv1t+lB0AjAXzGjBcBH4AAABgxAj8AAAAwIgR+AEAAIARI/ADAAAAI0bgBwAAAEaMwA8AAACMGIEfWCf/8s575v8AYByY14BhIvADPfvx/tfUR6/+fPklNY88+QOzFACGi3kNGDYCP9Cz2+77RnlT1OWPP3GXWQoAw8W8BgwbgR/o2adv21rfGHUBgKFjXgOGjcAP9IwbI4CxYV4Dho3AD/SMGyOAsWFeA4aNwA/0jBsjgLFhXgOGjcAP9IwbI4CxYV4Dho3AD/SMGyOAsWFeA4aNwA/0jBsjgLFhXgOGjcAP9KzLjfFXJ8+Y/wOA5cW8BgwbgR/oWe6N8bP3P16+rr+98o1jp8xSAFg+zGvAsBH4gY5+/tbJ+ivmv7vnp2bpRM6N8b4vf8tbR28DAIvCvAaMG4Ef6Oimux/zbmrhzbHtxvjl7d/zXtdl948OmlcBYP6Y14BxI/ADHYU3Rl3cm+Ndm5+ql+snZq6vP/Oit50umx/ZaV4FgMVgXgPGjcAPdHT2g3Pq4595ILrB2Zvj9/ceUn/08TvKZQ9+bVe5TPv2c69E29z+hSfNqwCwOMxrwLgR+IEptN0c9evuH6zpm2W47mduf8S8CgCLx7wGjBeBH5hS283R2nfgdfUfPnqzt86V/3OzeRUAlgfzGjBOBH5gBvqTLf7wik3eTU8Xe3P8p38+pv7Lx/7Ge+1P/+pudfHi78vXAWDZMK8B40PgB2aUujk++s096v/57/d5yzZcdqv67XsfmC0BYDkxrwHjQuAHepC6OYblxCm+gRLAMDCvAeNB4Ad60nZzfP2NE2ZNABgG5jVgHAj8QI/Cm+MfXHqruSm+bdYAgGFhXgOGj8AP9EzfHPWnXHz0k59XPzv8plkKAMPFvAYMG4EfAAAAGDECPwAAADBiBH4AAABgxAj8AAAAwIgR+AEAAIARI/ADAAAAI0bgBwAAAEaMwA8AQIaDR94sy/f2HFCPPPmDXstN9zym7tr8TfG1T9+21St6Xff1p3b+uKzX3p+86i3X/7Z1PnX6XdMK2pFT5tkOYB4I/AAAZLDfNDvkQjuWqwDzQuAHACCD/qZZKbQNqdCO5SrAvEwd+N1fU82z6F+xhb9OS5VZttUl3N4tmx/ZWa8X/jpPKvbXeH2Utl9f6vq47eirXHr158XjrXdhzOcz5np8pSIdr8/C+C7umtYF+T5161YxtA2p0I7lKsC8TB34pROXQqFQKMMqyBcGTP2E+aOf/Ly3TCp/eMWmcltd7tz8VPlf9+m0+3pu0ftx96X/+8BXny1+QPx+Wexrbj10oR3L1w5gHgj8U5aPfOJu9Ynrt6jL/8cXxNeXpeg6zlI+ddu28r/SvletjH3MpX2tUlnFa/pPrrrHzOjIEY7FEEh1lpYtO6nO0rJlN8Q6YxxmDvx/ce3fqe/88Egv5QcvvaGOHn+/sbx08O1oO2m9ZSiH/vlMWT/939Rrbnly5wF130PfVdueeil6ralI+++z6Dq5ExRjni5DHnM7vjrwSsecpjC+y31NX33jl82MjhzhE9ohfNKKW19dNNqxOG59dQHmZebAv7G4YUg3FMp4Shj4GfNxFju++umv9DplPIXAP50wYP7s8JvmleX087dOevXVRaMdi5FqBzAPBH5KayHwr0ax40vgH38h8E9Hvw/bXie6LHvA1PVz66uLRjsWI9UOYB4I/JTWQuBfjWLHl8A//kLgn47+40t7negy1IBJOxYj1Q5gHgj8lNZC4F+NYseXwD/+QuCfTvhEWQfOZZYKmLRjMQj8WKSpA7/96CvC3/iLDQd/cOmtjPmIi/6UGj2+BP7xFwL/dML3jA81YNKOxSDwY5GmDvz2QiP8jb/YcPCf/vxzjPmIiw76enwJ/OMvBP7p/KXzWe26DDVg0o7FIPBjkdYv8O/+WnRif+j+n8rriuWn6rPFNp/dLbwm7Dtc76Xt90frfHz7MW8drxx8Tn1cr+fV8Zj68l/7+/jQXz+nXnK3C4o9rljvaUpGWyeloc+KEvZJbh3zAn91bHf/k/I1tSNa3y877g+2Cc+VTv1QFHE8g9K4TtCeGc+LTiXn2pHW0aWuR/fxyAn8reMkldaxy61r2O/3qy8fdPdTFb+O4TrC2CX203wO9FGq/cfncfexq7fJPA8J/NMJx2OoATNcRjvmg8CPRVq3wK/DpXRTbwzdutgQZooU6vQN3VtuAoW7bMf9wU3c7Ffan3eDdW/qehvvBmrCQuqm6gQb+TjdS05bc/qs2s4JC4394ZdZnvCXP2S0hJAyoHnrmPFwxiKrH+qSGM/cdcy+k+dq1/OiY8m6dsLxzCxN49EW+HPGSSrdxm5S/LoKxyr341/nUfuidYr9BO0vtwn7su0cmKXkXK9CSY+d80OM+HpcCPzTsWNmiw5wyyw3KNOO+Ui1A5iHub6lpwwMLeFgUqobfN7NsLrhNd+cU+tMwlRW/VJBqw4WqXqbwGJL5o05Lk1tTR1b3iZ3PKYP/DljKNetKZhWZZbxbFpn8pq/TUsRz4tqX7OPuTBWqfOwsTSPR3Pgn3acpNJ0DtsS1DXRXr9fpPZlHKsM4MEPBcV+2s+BWce3eTz8klq3ap/ugy5jQeCfTj3Wpiz7Fz3lBmXaMR8EfizS/AJ/dFNtK91vho03aDEw+GEgJwCLTwO9tkn1jpeVx5oqADa1NdVn8vLcgKC/+VOPddfAn9vGcj3v3MgPhP46OePZss5UQVo6L3occ+namaKebcfPesLfeZyk0nQOVyWqa6K93jmcmGOiMQ5K9HpW3/YxvvJ1KZXUvt26dwn89pom8Hej+8wte1951byyvMI6S6GTdsxPWGfdDmAe1j3wV0GoOLE73Qh1yb8ZVseIb/S6lDdEfXzhhh/e6MN/x6Wqk79OWM+43mX9wv12/gGoKk1tTfdZYnlmaJwq8Jftyxs/XerzxJS2ECn1Q854tq1T7vev7y/r7tanuR3xedHHmNd9Il075dj5dYyO55aM8WgL/Lp0HSepSGPnFamuZll4vGq8TP8k+tdbpy5mzMLjFKVav/kcKNeZcXzT12tQEmMXtktup1wI/NNxzwddlv0945r9RD1bpKBMO+ZHagcwD3N+wt8lIGTeDE3w6bpeThj0S/U007+hSnWMl5X7LZbFxYQD0zfR8nqfprS2NdVnieXrGPjLNmeGDz+omH4ujpM8V4R+yBnPnHXKuoR9kghcVZHOC7PfYpu4dBxzXbKunWqMU+dvWZ+W8WgL/J3HSSoZ12uyrlGfmWLXLV+P+7EtCFdjNRnznHOgn/FNXa9+kfpDalNbO91C4J/OZDyr8sBXnzWvLC97r7ZFCsq0Y36kdgDzMNf38He5IWXdDDPCg1vKG6cJROkbti7hzVkOdXXIShWzvnvcqUtWW1N9Ji/PHY/OgT8IR42lKaRJP4wk+iFnPHPWSfWJPIap86KnMXdKzlgl+yxzPBoDf9dxkkrOOdzl3LH9b/s5Ucf2sfCvj5xzoJ/xzZjjEv1R9XtRh0Rp6z8C/3TCfu7lifLFd9S+x7eoK6+svudEl0uu3qxuf/qgOnnRrDMD6cup3H/bZTOjHVmG9mVhGI+pA/9Hr65+LfWnf3WPeEORSk5omZTmm6G94bXd2NzSdpOWX6/qMUu9u7U7LvltTfVZFYzCJ7G5ocWGgz+4rJoA28a83G9uexMhrQqH/vKuY57Tvmid8rhxgI331XxezDrmYcnZX2qd3PH440/cU/av/m/0eodxkkru2M127kjnv3zu+yXYLuMc6Gd8U9frpHTpjy51IvBPR/eZW2YOa6f2qGsv9/fplau2qwMfmHWnFAbjdQnKtCOb1A5gHqYO/O4JG99Q9E02uGFKT6oan/ilb4ZVeGgKGcW24Y0vI5gkQ11LaPSLUG/Tdn8/Qh8Jpb2tbmkIEGGIkcYjUZ7ceaAcp+YxNyUVDG2Jxtw8pfXGyyxz+qtbP1QlHs+4xOvEx47PnYzzYuoxF9YRxir1sbNRsG0bD6c0j2/eOEnXdPbYdahrqr1R6A3Hrvi3+INvVruc/Zjjdx9ftzRcr7p06Y+iRG1vKPaaJvB3414juswU1i4eV49eV+1nw9Xb1e63z5kXLqgzR/eoW64yr928R500r0xDCpjuv+2yqdGOTqR2APMwc+DXb/OQbijVTX5yUusS3diEcFDfSIMyWcfcjIV13EBb3sS919pvnFH4M/WTSvqJYeombkKiW7ywIJW8trb3WVXCMYnrKBf7EX62pMZcDEphkca8KNF4RUEqeL0u6YAVh/m4yOuExwvOnezzYpoxz7t2sq6vnPFwit3Phy9PjW/bOBUlGt/csWuvq9/m9PXs1zFcTxgTMSS3nANlmW58867XbmOnS9k/mYGfj+WcTjhms7z/+vzL29SGcj9r6pnTZqHr1PNqY/n6JvXga2bZFMKAGb6lRBfasdh2APMwc+Dv8h5+yjBLGPgZ83EWO75Nn9JDGUch8HenP+PdXiO2TP909oJ6ca3ax4YHDqrzZqnvrNp9h1nnoSNmWXd//+w/eHX+5A1f8v6tC+1YXDv030MC80Dgp7QWAv9qFDu+BP7xFwJ/d9Knwnx3z0/Nq129rtYuq/Zx/QtnzbLYye/cWx3rml3qmFnWVVjvj3/mAe/futCOxbWDwI95IfBTWguBfzWKHV8C//gLgb87KfDrZVM5s8e8PeRGtXbILJMc2m6OtU29aN9S3lFOUKYdi2sHgR/zQuCntBYC/2oUO74E/vEXAn93YVDTZeqAeXyXurTcx53q0eNmmaQOmIn3lWfQT73dOvcalGlHZ2E7CPyYl5kDf1g+/OefU1dd/+WyXP6pL0TLhlA+/dlt6r6t3+21PPvDV8Ui3YzD8oOX3oiWvXTwbXF/Uvn7XQfUtm++VP6/3V7v093voX8+U77+pcf21PW1r4eBPyyMuVxs/4fF9nlTWcSYh+NqC+MrF7e/3WL7t6ksYnz1/9vXCfzd9Rr4c4NjDwEz/CPRXoMy7egsbAeBH/PSe+CnjKv84RWb1H+77u/Un1xVfUY7hUIZdnGv6Qcffd7M6GhD4BfQjs4I/FiUQQb+j37y8+VFMmvR+wqX6ZtheLxVL7q/977yqvjavApjPu7C+M632Gsa+YYa+Nf1rTC0ozPe0oNFmTrwo9nZD86Vk0+q6I/m0j/pS+Wmux+LQosuD3z1WW89fcPWk4e7zD2G+29dnzb6Y+f0upgOYz5ujO9q0/3oBjVdpu7b+j3j96onTpllkh4CZljvXoMy7egsbIeeB4B5IPADANAiDGq6TB0wcz8V5oANmAP/dBvaUQvbQeDHvBD4AQBoIX3x1tQBs+vnvn/saXXYLJuGW2fpC6tox+LaQeDHvBD4AQDI4AY1XaYPmPP7ZlfNrbMOmO6/daEdi20HMA8EfgAAMrhBTZfpA6ZS51/epjaU+0m8H/z4LnWFOc7tL18wC6fj1rnfoEw7puHWmcCPeSHwAwCQwQ1quswSMNXF4+rR66r9bLh6u9r9tn1T+AV15ugedctV5rWb96iT5pVp6U9lsnXWfyhu/98W2lFYYDuAeSDwAwCQwYY0W2YKmNqpPeray/19euWqberFM2bdGXz06knA1J/05B2jKLTDWFA7gHkg8AMAkMELf0WZOWBqF99R+x7foq688tZ6v5dcvVnd/vRBdfKiWWdGbp3XJShrtCObW2cCP+aFwA8AQAY3qOkyBOGnC0lBeQjG3A5gHgj8AABkcIOaLkPh1nmoQVlz6zymdgDzQOAHACBD+MkwQ+HWWwdM2rFYYTuAeSDwAwCQIQyYvbxnfA7agjLtmK+wHcA8EPgBAMhAUF6ssbYDmAcCPwAAGQjKizXWdgDzQOAHACDDUAPmJVds8gIm7VissB3APBD4AQDIMNSA6dZ5yEHZrfOY2gHMA4EfAIAMYcDURX9r6qdv25osf/mZB+p19f/ftfmbRcj7gfrengPq4JE3y3L2g3PmCBW97OdvnTT/UmrvT14tt5GK3p8Ounofep+a/qx3/Zo+/uZHdnr1/ftn/4F2mHWXpR3APBD4AQDI4L4VYz3KLPvP3VY/UaYdeWVe7QDmgcAPAEAGKbANpein4fbJs/T6UMoY2wHMA4EfAIAMUnAbSvnunp+aVtCOZShuO4B5IPADADAl/f5s/aS2rex9Rb/v+/tleeCrz5ZPeHX5uPOecqn84RWb6nVt0fvQ/71z81Plfu0xdF1snXSg1Mty0Y7lagfQNwI/AABLIAyrQ327B+0Alg+BHwAAABgxAj8W6jdnfqvWtu5Qf/TxO9T2Z14wSwEAANAXAj8W5sV9h9Wff+pvvfdH7v7RQfMqAAAA+kDgx9xdvPh7teWx73lB3xb95SQAAADoD4Efc/VP/3xMDPq66G9IBAAAQL8I/JibG+9+TAz6ulz72YfNWgAAAOgTgR9z8cSOvWLQ/78uvUXteP4VsxYAAAD6RuDHXDz4tV1R2L/p7sfU+3yuMQAAwLoi8GMuXvnZUfV//7fby6D/Z5+8h6f6AAAAc0Lgx1y99ctfq/PnL5h/AQAAYL0R+AHM5B9fO6Y+fdvWsjz7/f1mKQAAWBYEfgAzCf8247/+5Z3qmzt/rN57/1/NGsBq4RvEASwbAj9m8otjp9Sz3/+J+u6eA2YJVk0Y+G358OWfVVu//rw69vZpsyYwfnyDOIBlRODH1J578Wfl01x7U7vmpi+bV7BK9Lcju+EmLP/+z27iG5QxenyDOIBlRuDHVL70te9GN7X//LG/Ma9i1ez9yavqf97+SHROuIXQg7HiG8QBLDsCPzrRb+H540/cJd7YbrvvG2YtrCr9doZP3bpVPD8I/BgjvkEcwBAQ+JGt6a0b/+9/v8+sBSj18oHXy7d42fPjL65dKz+SFRgTvkEcwFAQ+JHl3i3fEm9suvzdV75j1gJ8Bw+/WRbCPsaIbxAHMBQEfmTRn7gS3tj0e1Nf/tnrZg1gdvq3SLroHxKAZcc3iAMYCgI/slxz8+TtGbrctfkp8wrQD/03IO45pr/I60cvHzGvAsuLbxAHsOwI/Mjy7v9+X91y79fV2sM7+Mx9rIs/vepuL/DbsvGmLerH+18zawHA+uMbxDE2BH4ASyF8wu8W/clQbxw/ZdYEgPUVzkF8gziGjsAPYGn87dZvq/9s3hMdFt7Xj3nhG8QhzUG68A3iGCoCP4Clcubd99TfP/sP6uobvlTfZPlYT8wL3yAOreljqHXhG8QxNAR+AEvrlYNH1VM7f0zYx1zwDeJw8Q3iGBMCPwBgpfEN4mjCN4hjDAj8GBWeBAPooumtG3yDOFx8gziGjMCPUfiXd94rP77RTsJvHOMTXQA04xvEMQ2+QRxDRODHKPyvO7/m3az1ZyevMvve9yNHf2mWAAjxDeKYB/1bJF34pDEsEoEfg/fwN56Pbtqr/L5KHfL/owky+r97X3nVvALAxTeIY73xDeJYFgR+DNoL+w57k6ku+iP19B/hrapnd//E64+rrv+i+rfzvzOvArD4BnGsN75BHMuCwI/BOvHrd9SfffKeaCLVn6O9yvYdeD3qE/1FMQCA+eIbxLEsCPwYrJvufiyaQPXnaEOp/3HLQ1Hf8P5RAJg/vkEcy4DAj0GSPkpPh1xUXnz5SNQ/133uK+ZVAMA88Q3iWDQCPwZp09oTXpj9Dx+9eaXfty+57f74V8nf+NaL5lUAwCLwDeJYBAI/Bil8wr/z+/vNK4v33tl/XYo/APz973/v9ZEu/+nPP6d+/tZJswYAAFgFBH4M1v0Pfbv8iLOf/uMvzJLF+87uV+pw/Vf/60GzdHGe2LHXC/y66DoCGA6eBAOYFYEf6JH+Kn43XC/DN/7+SfCxcLt/dNC8AmCZ8Q3iAPpC4Ad6cv53F7xgrcvh14+bVxdrbeuO8kuFVvkLyYCh4RvEfXyDODA9Aj/Qk7Pvn/NuzrocffOEeRUA8vEN4j6+QRyYDYEf6In+2LXwBn387d+YVwEgD98gHuMbxIHZEPiBnpz89TveDUmXU6ffNa8CQDu+QVzGN4gDsyHwY6kN6dMpjv3qdHRDeud/nzWvAkA7vkE8jW8QB6ZH4MdS0kF/aJ9O8fobJ6Kb0fsfnDOvAkAzvkG8Gd8gDkyPwI+ldM3NX/Ym9SF8OsU/vXbMq7Muv7tw0bwKAM34BvF2fIM4MB0CP5bSh82nMdjy+Ld/ZF5ZXvozs90633bfN8wrANCObxBvxzeIA9Mh8GMp6c+Mdyf0odCfd/9HH79D3XDXo+rIknwGP4Dh4BvE2/EN4kB3BH4sJf3pNlse+566d8u3zBIAwCLwDeLA8BH4AQCAiG8QB8aBwA8AAER8gzgwDgR+AAAg4hvEgXEg8AMAABHfIA6MA4EfAIA54hvEAcwbgR8AgDngG8QBLAqBHwCAOeAbxAEsCoEf6Jn+dsyz7/+r+RcAVPgGcQCLQuAHeqL/kM29Mb569JfmFQDgG8QBLA6BH+iJ+/Xzutz+hSfNKwDAN4gDWBwCP9AT/W2PbuAfwvtzAQDA+BH4gZ4Q+AEAwDIi8AM9+fH+17zAr38AAAAAWDQCP9AT/WkW+hMsdNjXf5wHAACwDAj8AAAAwIgR+AEAAIARI/ADAAAAI0bgBwAAjfgGcWDYCPwAAEDEN4gD40DgBwAAIr5BHBgHAj8AABDxhYLAOBD4AQCAiMAPjAOBHwAAiPgGcWAcCPzAFE7uWitvfht3nTZLTqtnbtA3xDX1jF0EAAPHN4gD40Dgx0o58FARym/Yo06af0/l9B61sbj5rR0y/66Z0D/r/heg+gFmuzpg/j0E9ocu+YesI2rN+4FsfspzrKyXW/hBEACwOAR+rJTZA39LqE/+MLDchhv419RGPR4PHTFLrUUHfr8v7Q8nQzsvAADjQODHSpk58B/a3hrcevktwpwNN/AXdS7HJHyCvlyBf8i//QEADB+BfxGcp8BVOLAlCAlikJHC2STciPszx6uXB09D6/01rZcMuplBJtx32Na6T+x74U2x+zXHtyUMcnXIbljP7xtTnG1y2lYfx/xblBi3pKDOuth6T8a6GuPydff4bf1q2+Ct4/dLdYxwHX8/Yd+F/W/PQXeduC4x8dht/WtM+kY6B+PAL4+d2dY511PXg92X3xfxOFevx22fLDd9Ff1Wwh6bt/8AAPpF4F8EJ0hMQqYQWhLBcRJ0rEnYivZXLnfWrYO1+XehDl1CkJwEpjgYlYT9RYRAHYWiuk/c9iZCrtAvdQhr+SGlXC8j9JWitiXWi8RhM8X2vdd/+rjmGPXYCAEyq1/LOgfbRmMrnVOWaXPjuSEH2AMPtQdXfVyv7dLxErw6R30Rj0Hu2Nd9Hp1zxbKMfcZjUHGXy/2de34BANANgX8RoiBZiUKAEGy1OCzIATM3VMjrxcurf0tBO952IhV+q+V1HyT6RA5puWEuXp5aL69tQZ2Tqj6O2xxK9c1Eamyy+1U0/TlglcttPybO02ml2+zz1zNtqsc29xzJ7YtEfwttj88bLTiO8ENX/EMLAAD9IPAvQmPgd8LDggN/fPzwOIkQ5EqGwaoe9bbrFPjDtqXWy2tbtSwnkJXHcfpYlOybifyxsYJ+NaoQGhSnH3LPlVp5fLO+GTuxnjnKfTn1Kktzv2hRnc1+qvHJPUdyrwfpfCgI41D1tb99tUxYz6mPXD8AAGZH4F+EwQZ+P8xE9ZWIYc4pth4LD/w5bVu2wK/rmyhBv/r7MOeA0w/yccx64b7r4tRdqE8UjiOT/bt9mnVeFeI6u+1adOAPS3oMy7abcWrvMwAAuiPwL8KAA/+k7vF+RIk2RJYg8Le3LTfwV9u3hreMvuk0NoIqfCbOAacfcs+VXDb0NvZV2YZ4naou7W0T61zvc9GBXxizyOTYyXEGAKAHBP5FyA38jeu54WB9An9jQCqOlxPKkkEptC6BP26rvJ7V1rbq9da25LY5Y710EMw7RmO/OMtTx0kfv01G/RI/tFTHbD+35LrZtq2V55N7/Mb1FxL47bH0+u1jCQDAtAj8i5Ab+E3IiMNIGCjkMDJTwEk8fS2Z11JBPFxu6yy1t162DoG/Oq4fxqRlnmTbKs0/MBiJICsR+0b3hRmf6nU5PIrbFvTyelkykAbtSI63PKblcrtMb+ucT6WsPhDOW1OPnP5L9o05l/R+pH1P2miuBb3uggJ/3b+Z5wsAANMg8C9CduAvOOHFBpg4kMhhRA4uqcA/OUZVGgJIov51eJECcdCOqjh1S+yzU+D39q2LHLq8dcN9J9tmRKExJte5QR1yJ8XuXx5DR1u/FsLxrd+yFNTRX8/fh9S/k/63odUtmQE2rH9xXlb1aN++qW9sfeVrwh5PH2OxT/iLDoiODwBA3wj8aAxOkq7rz0PnkJ3Q3jY5LNfafmAAXJwvAIA5IPCjY4BPPOlcsH4Cf2bbkiGt5YcBINDXD6oAADQh8KNT4K/WzXy7xhz1EZy6tK1a1/3hwIT9JewbLCnzg+Oy/fAMABgfAj8AAAAwYgR+AAAAYMQI/AAAAMCIEfhXWvW+c95DnGM5/1h5aPgj1fXT7Y/vAQCrhMC/BKa5UZfBadabe/lHg6v9R6ZRPyY/gWdRgb/jcWf4Q9D4nEode/pPIwoDf/fzeHGfhJR/rvRIGM+wDy0CPwAghcC/BBYV+FPBYZXkhzgC/wSBv0TgBwAMBIF/CSzmRl2FuXUNK0M09MDfq/6PnQqrgzSPwC8g8AMAuiLwt6hvruVX6OsnfFWpbvLmaWO9PLzZVoHJ3U4XNyBUN+lwHbMfJ1BUTxd1qd6C49/cJ/UIw4fdLgolZXu611er+8TUr1zvoSMtr+X2hfQWI7OtOYaobE+wbcYyrx/dOjulquMk/PpjJtW3EJwvUUBLhUWvfnKfNQfwST0tcUyE/fjnVPOx632W/yqE7S1LeH7F2/nHNK9H+9Fl0s/RsZ2+9LePj6+Fx9h4g1+HlPxzRWKuUe8czlnmj6fYP6YvJvULxq7pugEArAQCf4v6BuvcNN3AN7nBSzfv4sbrBhPNBCM3GIShp+aEijBIxNvY0O8sE45lle2KgkBefes+CdctpF/L2bcfbmrleolgbQkB2tbF3V/Zb049on4U9lOZhCh3f9Ux/LGr9unW14yN2/7UcaK2JvokKV5fHBNhXONzKn3scp/B/sL1pL4Jt4uPGTL97mwTHVu8ToQ+l66RglRPSf65IkvX2z121d7JPhPj6bWrUtUv2J85Rv75AwAYIwJ/C/HmmrjRt4cXLb6BJ7drCBTiNjZAlEE+HdbiUNEkP3BoTa/FEvv22iUFN4lZr/4hxuxbP72ttw3X6RLiEv2ZHdCD5anjrFfgj/ovXi8+p9LHzhrnqC3xds3XTENAd4+dez0K9dGa6zCRf64kBMcv91ecn94+MsY/1fdyO+JzHlgP1fnnnqv2+o2vOQDzR+BvId5ccwNGyU56QWkKnVZDoEhuUwYGc4xEICu3TbyWU9+msNf0Ws6+ozZ3CFXesct+KPqn3N7ecKrw5O4r6sfk8RLh1/R3vX4U2KwgeKWOkxH4muUGxGq95vMwfeym6yIcX7eN4XbJ87hQvRb3UXTsRF9W20/6Uu6H5jq4ovWS50qCt351Pui+LetlxqE8hlfH3PFMtcOcd8L6QG+S18Jwz7/ceWGZVHUu+lu8B3W9l/SnnLPKerlFqiPWE4G/hXhzbQwYzgRhw7dwA28OWkZDoGiajKqLK3UxTYJGJLO+qcChJV/L3Hd4g6jakjnpOmG57J9yv057y/70+yXqx2SfJyZL0656facOIa9vUseJtu86Scfry2MS9318TqWPHe6zGqdg3bBvCuF2bee+f25UovYk+rLa96Qv5X5oqEMg/1xJMed22Sbdt6ZuZT9V+y3r6LU5dzxT7Rhu4MJQtJxjna+T5ZA7LywTO+dtrOcZV3o+X2/lnBX0ZVXX4Z0XQ0bgbyHeXBsDhj2pU5NgTtAyGibK5DYmZJVFmoDLfUqBNL++qcChya/l77tUh96uE1S1/tqh6ni238q+0sfW+w3qEPVjss8TdQlDbV138++a6QPb1tRxou2n64P2gFit13wepo/t7dO0pbVvCmFd5PPY1C2qcyVqT6Ivq31P+lLuh1QdYvnnSlq5D10H71ys2huet5Xc8Uy1I3XtAT0RrvNQ6pxdZrnzwjKp6yzeh9Lz+Xorx5+5aeEI/C3EiaoxYNiTOgh4NRNmGoOW0RAoxG3c4GX+Pzx+uZ14geXXt2nyll/L33fFLC+L0C9J1XE2PrS9aLuzXdkX8lOPqB+TfZ6YLKObXWK9aHnT/oYZ+KM+E4JAWBfpPC7XiW5WE1F7Esev9j3Zj3QsLbU8FK2XPFcalH2yXa0VbYjHSL+fv/0mHbXfkNsxkpuq09fV+WFL0F4x6Eh9M+lXcX/mePXy1LzRtJ5w/ldaxsRsJxX/WjTXcF3idtfniltPp45+2+VrvWprer3U+ehJjEuS0Af2mJOxdNrvHj8ck/AcifqtKu44SW0O99Ped9JxwrrExGNnXr+TvpHOsck5b8ljF9+v6/0GfWv35fdF4jwU2j5ZbvoquM606tgdzh0kEfhbiBeEOenlgDE5qcN/1xdSeGKnbgyJ42jJfbt1jfZbXVTS/rTc+sqTRCX1WnZfGNX68mtN5O0mx2obs3qSjo4bT5YlYeyqfboTlDA2DePVvm2T3Ek9bmdyjIRj+/s067l95twY3L4J6xIdM3UtOKL2NF6Pbl8KY1vX0223LP9caWK2CW9gduwT4+SOZ9yuSlw/rev5s6TE8yl1DeX0jR0HYX/lcmdd4fyq9hcc26w3GSvhutAS52uT8px32xUdSz4vqu2CepaEvsvcZ7le3aZEGyPxeZxi+9brH+eYdd9L16wwf1R9EIx92B/CdtVxhGNk9Z05v4J+OfBQfG6G9HH9c0M4XoJX56hN8RhEc2kpHtO6z9117ZyVsc94DCrucrm/c88v5CDwtxAvCHNx+xelfMJWJ7Qt+mKXJ4L6giqL2UfiOJp/LHNRRBfL5PjlPsoLNF7HlVNfsU+M1tda9l0r69o+OUaEiVur+ivenzjJmH63da32FU+WpcTx3MmwLGKfmPbbovtBbLe/XvNNM66nPCZx34t9kTh2vM+gLfo1oW/C7eTzWC52P9GxG6/H5r7U+zkgtjuWf640Sd284/GoVMvDMfeuJbMvefxSxxuY3DlXvH6kvpH7tbEPW6+VeHn1b78+1djF26ZU+3DbHtenUi1vv/YLiX7yl6eO46r6Mfe8D/s7Jo+LK9X36W1z6hhvmzvGVrnc9nWqf6eUbrPPX8+MXz3+cRvl8yMed/n4if4W2i6f88FxzDXu7a/cV875hRwE/hVSXnSNk/fySN6ogJ55N2osp9wf6hJBKw4scliRg01uACpExw+PkwhJKfYHSnfeTvSFFs7xqXk0Ob8G+y7Xa6xv1Z6cQBbWTZQRlPP73pJ+2DBjqvvWLa1jHJ8LtfL4Zn07blI9c5T7cupVluZ+0aI6m/1U4xOfe/J5kHu+J85lYRyq88jfvlomrOfUR64fpkXgXxUNN4mlM6S6YkD0jSy4aXKuDUNinKog4oxpIvTFgUUOK7khT16v0BJ2ovo2sqE0OE4dJhMlIzClg1TYL7YObon7Mef6KY+57oE/rKtT7LHtel77q3a0j7HUH24Jz0X/9SgcRyb7d/s097yJ62z2V7Y1Pufl88Bs03vgD0t6DMu2m/O8vc+Qi8CPpVNNDsJkAMxEvlkT9gdgwIF/Uvd4P02qeVAIeYm+kMiBLr28dd/m9cm2uYG/antreEuMn6tT30fMGERt7xj4M8fQZUNvY1+5gddR1aWtbYk61/tcdOAXxiwyOXZynDE1Aj8AYLnlBv7G9dzwsD6BvzFAFcfLCW0lE9LkgJwfOpPBPhWOU8sdftururQG+VQ4jLSvl+r7vGOk+q7aNmeM08dvk1G/RP9Xx2w/d+S6mTabb/V2j9+4fmtfJNozU+C3x9Lrt40luiLwAwCWW27gTwa3MHDIYWWmAGRCuvgE17yWfLLsLY/bEDH7k8KWuywZ+OsQ6Lxm+niyvV4nDJlxX6SP4RBCYIodL68fdd3MMeUxqojbFvRyuyze3rQp7PPkeEpjphXL7TK9bTh+WX0gnJemHtMH/oIZW70fad+TNsp9Ie9XqKsmtLNL4K/7N/N8QT4CPwBguWUH/oITbmzAiQOLHFbkYBOH3Gq9yTGq0hBQEvWvw40THuV9m+KFSBuM3CIErYYwXgWxSZH7w19HDrJS2yayfihw1SF3Uuz+5TFyBONfFX99v926z0xfBm3z29+0j6pM+q99bJLC+hd1qurRvn1T39j6No+xPkbqfA/3K19Dswf++PjoB4EfrTpP1kCvEjeWuVuWemDRmoKVpOv6w2ICWuoekfxhBxBwvqwbAj9aDSnw+08rqlJPHEs/kcwYKDOetK2Hbk9vpkHgx3LpFuBX4LxJzq0tPwwAAR4wrh8CP1oN7wJM/EqQwL8uCPxYNV0Cf7Vu5ts5Bsw+bJlcH2YeXoG2oyfmHs0cuz4I/GhF4J8XAqWMwA8AwCwI/L2qAoF9K4ktYcCcPB0K1ncDavJpbcavSBue9PrhPa++UeAX/ihHSz31qp4AT0ocmKR6zPLEWAj8Juz7x8gJ//YplVv8urW2z/lBw1/X3Y88FnZf9umZV8JzQPiBph67oP3xGEjtbH4y59VpqvOjarOui9++cNvJei7bl3FbJqr9Su3wz5Gs/o3qIZxnJbm+8RgL9TLXrlei/QMA0A2Bv1fFDT0MCUL4noQLJ/yYQNYaJoRQFzPBonXbvPrWodH8Oz/QmTa420btlOt64CEppOWape9cpm5BH03qltO+glnm96uwrTleHBSrvvXrnT52NHb62O560RhLdZGOKZv+/DD9G7S5qrP8g4FVrZNxjkjjoQV1zOrfqB5mnSiQC+Mo1KPqD6cNwrVX7isYFwAAuiLwr7v45h8HHy0OD1EgKMRhSCYdQz5uKBGupgh0qeOVy+3+EvuaTSKICYG4SWt/peoeLk8cN96/EBQbRNunAn8UGIPjdOyX0LTnR7K90fb+etlh35D6QO4XX3t9cwN/ar1qudeuljphyZXnbsOcgcgYzvvWe8VQRPeCxBw9k2qf5YMo71hYbwT+3pmbu3NClyUK8uHkYLbzJr7wYutw8UUXbnPoaKpvNCFnBbrU8QruTdHUs9/JMnHsTsG2of5G8kYVHidx3Kq/0sE2Uvab7iu3ONsLx5HraCbcum12As4P0a7pzg8t0V7Tzkk7JuvFfZYhqk/zcZP9G22XOkeC9RrOu7LvzPZV26T9oZvE+DYyYyldzx2444k8yXnUM8P4RPNJ+pjl8inuRdHcJhxzEKK5apprqUn7fbVm6uIeO76HoAsCf59sYPAmkuqCcU9w+aSVJzR3AuoWdoL9lRdPsG1mfaPJsdwuroffLnN8vS+xONvbejhltgkmMak0BK9Y+8SUvlHlBb54PFOT66Qv3X1E2wvHkesYj7Hd1huHhra7pjs/tER7zfkQ3nTqeol93iRob7l/tx6Z/RvVN3WOBOtJfesWpz3V9e6WuB/RJnFeNTJj2fnccnSaX2Cl51HXDOMTzSfpY1bXX3hvbhfNbcIxByE6h6e5lhp0uUbMuu6x43sIuiDw9yY1IQVhoyCftInt6wskFS4aOMErnuDy6xtt6+zX5bdrivoa1aQ7y2SZOHanG3J7/VM3jeg4ieO2B0ojcfOItheOI9cxHuNQte+8iX6680PLba+pr97WtLHreTU5tjCuuf0b1Td1jgTrdTrvXE67zRLkSJxX66w8X6T5AI2S8+g66vuY8dw2UNFc1fO1VO4/vjfkGk0/LwiBvzfNN393uXzSmu2jScgsL2/8XS8Ue7HuES7a/PpGk2MiwITtmv7inHWSSbStY/BqrX8i2EbLG/urKVAajQG6+TjTBv5kHwqmPT+a2+tuH6xnXs+pW83WqbgWorrl9q9Q36b+nayX35eRRN2Ga9I3Zd8V/18Vc16YcaqXh31mx94r8TkVrmPHYnIOOuuZ8fPH0r4e9r2dj+Xl7rmhVcczxwmONzHpE3f98hx1rqVJf1XHbt+3aYNw3sXntsS21S9yG4M+1UU83+V9xn0Sa5pnxHPJCuYjf11TzH4nbbGCNpnizR+FaLvgmPJ5WxW/P8PjCWMk7at1bskby6jezrmZI+xbbzuzb/f15nH3jy2e706fS6/n1ntVEPh7FE8WzkXmXJDxeppZV7oA7AWeMSmGJhdgeLz8+kYTrZ2UojaFxzHrRfUulttlum3hZFW215/oqna03aAs045oEozr3Uyu/7Sf0iPfJNw2pc6Bqh7ePutJ39leOE48dlrQD3q7cJ1EnSWznh/RpGza1njTMevkT+jOuT1t/wrrxWNo2p7YX1TfYrldpvsx7O+ob8245J/Dy2bSP5O2OmPjnh/SOej0l1XNDRnnVUE+DyvJ89hZFo+3UdY1Xq7X98dUusYT54xmx7so4bmRs++qvmFbzXqt55BeL9jW1Metp9inwnp1O4Pjxv0uS14LRYnOJWE9t69Sx4z7q6hzuJ65lt39RdsJxwxV5208f8d966wjHFusYyRvLON6V2MWnZeRdL83779JfGz5fBb6SdPHGuw8uT4I/D2rLmJb9AkYT3LySStcMFaniyRgtk1N7jn1FSdHu19T9EWZuhj9Y0zWr5jjeSW4cAvR5JhQ1cHfn9dvQb3b+9SMi7NN2Bdh+6LJMTF+4iQV9Ee9r6Deenyi7YXjiGNnj1GPsdDGYD9Npj8/qnpE/RXd1OT16rGWrhmJ2W90PC2nfxP18Mdfty/RLtvvXnH2b+rnlVS/Jq7n5dc0lok5sa2tZb+1j5MmH6cinsfuOSNcX1a538zzMK5Dur5Nx5RE+zbbe/uOrq8u4jHJHbtU38tzVCxaL9E3qT5w10sdM1VHXzxeOcd0Veu7r6fO9Wq5PVZuX+URjhnVu+HcdEXXoBEub+kXX0Y/l1J9hxCBfwDyJiFgMfq9CWHc5ADR6UZuQkP9Q5EpOSGlaS5tDoHmOGKoqI6XDDEmYPsl7weU1oDUuu+4XV2v13L98BjO9o1jV6+XDmW59YnWS/RNVZ/mkJk6ZmNb3Pbr4rQl2q5p3Oz56/ZFw/plXc269bkonoft2sYyrkfDuelIjmG4v6Z+icTHlsdn0q62eq46Av/Sy7vggMWozs9pb0BYNfJ81hi0nHNLvLFHT6zTc2YqMGjJ0FIHPnm76vjSa5Og6Aacqg6zBv7cfRfc/jH7y7qfmHX9tpnjOv3UOHb1eubfwjyR7ndftF6ib6I+ENZLHTNqi/2Byls3nvOi7VrHLeivuq8TxTm+vQYmJRhvSeZYxvVuODcd6TEMtk/2iyQ+tnyuabZf3SKtt9oI/EsumryAJeDddMSJHpDIAUK+kQch0YSFKHysc+CvtjHneiqwCsvjelXiOb0hVKUCUva+tUk/NrU/VF3jiTFx+kneZ7heMJaOdFj0Resl+ibqA2G95rG2bYnbWqnGy21L1AeJulV9KtzPU+PcytSlZUxzxzKuR8O56UiOYbi/Tu2Mj519/prjiHVaYQR+AMCcyAGiMTTaYJUKC+sZ+N19m//391sdSwww5fpxuKvq0Efgz9l3pVpetC91HIEc4uKQ2Dh2znqpUJgMi4FovUTfRH0grJc6pt+W4PyrVePVOfCL54+VOlaGxLngyh3LuN4N56YrVYdweep8FsXHls81WZd1VwWBHwAwJ3KAkG/OYQgSQpEJEHUoLwlBxmgKAXEoSgW7SYAp/y0cpyK01YQ+Pxw1hKpkQMrdt2XaIr6WIIS4so/0fpw2N46dECbjABesl9Bn4I/WMcK2xG0z7dJ17hT443MpYsYvOg+K5XaZ7oOwvXKYD2SOZare4rnpyRvv1JjJ0ue4v70+djiWpj5N/b2CCPwAgDmRA0QcrDTppm2Dqyk6YIghwF/PHk8+TsUPTmb7KEjZwKcDRvX/jWHIBJy6vkVbqjq4AUXuk1JTQMratzVdAKr2NzlG/QWQTr80jl3Yf0GddZuzAmshWi/RN1EfJNarA68uZr9SW7z1yv2ac8Ppy2i74JhhP3ql6fwui9MWc657JaPvtLAO0ljGfdVwbgr8vhK2S4yFTD62346qz8X+7XiurwICPwAAXZXhRQrXS6hT0AIwRgR+AAA6yn0yvQyGVFcA64PADwDAWJmn+7lvywAwTgR+AAAAYMQI/AAAAMCIEfgBAACAESPwAwCATqKPogSw1Aj8AACgk2UN/OtaL/MH0JPPe+cHHgwHgR8AAHSycoFf+LSj6oumCP0YBgI/AADoZNUCv/xdBt2+iRZYJAI/AACjV4XTDz10xPzbcWh7EZLttwafVs/cYN+yMilhqI2CderbfL19T1TbO8eI6iXVo/mbjaN9lsUP/9VT+UnJC+umLqk6Sn0KLBkCPwAAK0B+C0oYWvW/g3WEt7PMEvjjeoQ/jJg6BU/U9TGj/QeietWEfQrtkqWf5MtP/oHlQ+AHAGAVSKE8FdQ98ZPsqQN/4ol/tdzsL6tOsmTgbzxu828Omn4wkH+IApYPgR8AgJWQEdyN8K0vZXGeZE8b+JNPxMvt7XrmiX9bEBc0tid53JYfLgj8GAECPwAAK6IKxDZIVz8AeEHWhFs/xMZvh5kp8Jf7l0u9fV0Pp2S8V75z4M/6w1ve0oPhI/ADALAynPAqvJ1FfmLdc+CfIiBXx2sL5lME/lS9PfFvRiqp5cDyIfADALBCbPh9RgjBcjDOCPypp+DhDxXCDxl58sJ1KvAnj5tZH7lfcn47ACwHAj8AAKukDLlFgJWebAsBuAy7ev3GwB//UDA5jrs/s14UyvVys0w/dQ/DddaT+II5ZryeUD+zz6zALqxb9UvYjuqHgPiHA2CxCPwAAKyUVOiu2LfP2LJ2KA7L8pN0E3Zt0U/jE0/Qw2PU65ds/fzSGvYNf99+HesfXkzp9HTehP7UvisEfiwnAj8AAAAwYgR+AAAAYMQI/AAAAMCIEfgBAACAESPwAwAAACNG4AcAAABGjMAPAAAAjBiBHwAAABgxAj8AAAAwYgR+AAAAYMQI/AAAAMCIEfgBAACAESPwAwAAACNG4AcAAABGjMAPAAAAjBiBHwAAABgxAj8AAAAwYgR+AAAAYMQI/AAAAMCIEfgBAACAESPwAwAAACNG4AcAAABGjMAPAAAAjBiBHwAAABgxAj8AAAAwYgR+AAAAYMQI/AAAAMCIEfgBAACAESPwAwAAACNG4AcAAABGjMAPAAAAjBiBHwAAABgxAj8AAAAwYgR+AAAAYLSU+v8BTmF6eekreScAAAAASUVORK5CYII=)"
      ]
    },
    {
      "cell_type": "markdown",
      "metadata": {
        "id": "qziwcgY3sB6T"
      },
      "source": [
        "* KNOW MORE ABOUT EMPTY AND ZEROS FROM HERE [link text](https://www.educative.io/edpresso/how-to-create-an-empty-numpy-array) \n",
        "* zero vs empty from here [link text](https://stackoverflow.com/questions/26213199/np-fullsize-0-vs-np-zerossize-vs-np-empty)"
      ]
    },
    {
      "cell_type": "markdown",
      "metadata": {
        "id": "dXE-1buPt-J1"
      },
      "source": [
        "* ***numpy.empty***, unlike ***numpy.zeros***, does not set the array values to zero and, ​therefore, may be marginally faster. \n",
        "* On the other hand, it requires the user to manually set all the values in the array ​and should be used with caution"
      ]
    },
    {
      "cell_type": "code",
      "metadata": {
        "id": "MxS0aY7skn6j",
        "colab": {
          "base_uri": "https://localhost:8080/"
        },
        "outputId": "b4226f32-d914-4ee8-e6cd-7a9e66836e20"
      },
      "source": [
        "# Making special case arrays\n",
        "# Return a new array setting values to zero.\n",
        "\n",
        "np.zeros(5)"
      ],
      "execution_count": 25,
      "outputs": [
        {
          "output_type": "execute_result",
          "data": {
            "text/plain": [
              "array([0., 0., 0., 0., 0.])"
            ]
          },
          "metadata": {},
          "execution_count": 25
        }
      ]
    },
    {
      "cell_type": "code",
      "metadata": {
        "colab": {
          "base_uri": "https://localhost:8080/"
        },
        "id": "BuCf0cT0skkG",
        "outputId": "88220f5a-4e8a-4829-e135-db0c3986b4cf"
      },
      "source": [
        "# default dtype = Float\n",
        "\n",
        "np.zeros((3,4))\n",
        "np.zeros((3,4), dtype=int)"
      ],
      "execution_count": 26,
      "outputs": [
        {
          "output_type": "execute_result",
          "data": {
            "text/plain": [
              "array([[0, 0, 0, 0],\n",
              "       [0, 0, 0, 0],\n",
              "       [0, 0, 0, 0]])"
            ]
          },
          "metadata": {},
          "execution_count": 26
        }
      ]
    },
    {
      "cell_type": "markdown",
      "metadata": {
        "id": "jfrGlLvvo_QV"
      },
      "source": [
        "# An empty array\n",
        "\n",
        "Return a new array of given shape and type, without initializing entries.empty, unlike zeros, does not set the \n",
        "array values to zero, and may therefore be marginally faster. On the other hand, it requires the user to manually set \n",
        "all the values in the array, and should be used with caution. \n",
        "\n",
        "# np.empty is slightly faster"
      ]
    },
    {
      "cell_type": "code",
      "metadata": {
        "id": "w5e6P6vQkn6k",
        "colab": {
          "base_uri": "https://localhost:8080/"
        },
        "outputId": "7bbe7bcd-705e-4e54-de1c-8d58eb3ff40b"
      },
      "source": [
        "np.empty(5)"
      ],
      "execution_count": 23,
      "outputs": [
        {
          "output_type": "execute_result",
          "data": {
            "text/plain": [
              "array([0., 0., 0., 0., 0.])"
            ]
          },
          "metadata": {},
          "execution_count": 23
        }
      ]
    },
    {
      "cell_type": "code",
      "metadata": {
        "colab": {
          "base_uri": "https://localhost:8080/"
        },
        "id": "fanD9YHAtN4W",
        "outputId": "53ede2d5-1d4f-4b26-8449-ab482d38cedf"
      },
      "source": [
        "np.empty((3,4))"
      ],
      "execution_count": 24,
      "outputs": [
        {
          "output_type": "execute_result",
          "data": {
            "text/plain": [
              "array([[4.63604085e-310, 2.47032823e-322, 0.00000000e+000,\n",
              "        0.00000000e+000],\n",
              "       [0.00000000e+000, 3.69776220e-062, 5.33482259e-091,\n",
              "        1.77529755e+160],\n",
              "       [1.52475721e-052, 2.23147274e+160, 3.99910963e+252,\n",
              "        1.46030983e-319]])"
            ]
          },
          "metadata": {},
          "execution_count": 24
        }
      ]
    },
    {
      "cell_type": "code",
      "metadata": {
        "id": "G4z55eVSkn6j",
        "colab": {
          "base_uri": "https://localhost:8080/"
        },
        "outputId": "19854b34-66b4-4b2d-d2a0-7354f03e87a7"
      },
      "source": [
        "#Ones\n",
        "np.ones((5,5))"
      ],
      "execution_count": 27,
      "outputs": [
        {
          "output_type": "execute_result",
          "data": {
            "text/plain": [
              "array([[1., 1., 1., 1., 1.],\n",
              "       [1., 1., 1., 1., 1.],\n",
              "       [1., 1., 1., 1., 1.],\n",
              "       [1., 1., 1., 1., 1.],\n",
              "       [1., 1., 1., 1., 1.]])"
            ]
          },
          "metadata": {},
          "execution_count": 27
        }
      ]
    },
    {
      "cell_type": "code",
      "metadata": {
        "id": "I8zrSFzCkn6l",
        "colab": {
          "base_uri": "https://localhost:8080/"
        },
        "outputId": "0a2da43f-154a-4b66-e692-554cc5eb1d68"
      },
      "source": [
        "#Identity array\n",
        "np.eye(5)"
      ],
      "execution_count": 28,
      "outputs": [
        {
          "output_type": "execute_result",
          "data": {
            "text/plain": [
              "array([[1., 0., 0., 0., 0.],\n",
              "       [0., 1., 0., 0., 0.],\n",
              "       [0., 0., 1., 0., 0.],\n",
              "       [0., 0., 0., 1., 0.],\n",
              "       [0., 0., 0., 0., 1.]])"
            ]
          },
          "metadata": {},
          "execution_count": 28
        }
      ]
    },
    {
      "cell_type": "code",
      "metadata": {
        "id": "XdkfYJRFkn6l",
        "colab": {
          "base_uri": "https://localhost:8080/"
        },
        "outputId": "46adb873-e987-4a04-9c9b-93063efa23fb"
      },
      "source": [
        "# Using a range\n",
        "np.arange(5)"
      ],
      "execution_count": 31,
      "outputs": [
        {
          "output_type": "execute_result",
          "data": {
            "text/plain": [
              "array([0, 1, 2, 3, 4])"
            ]
          },
          "metadata": {},
          "execution_count": 31
        }
      ]
    },
    {
      "cell_type": "code",
      "metadata": {
        "id": "xrrsBOiWkn6m"
      },
      "source": [
        ""
      ],
      "execution_count": null,
      "outputs": []
    }
  ]
}